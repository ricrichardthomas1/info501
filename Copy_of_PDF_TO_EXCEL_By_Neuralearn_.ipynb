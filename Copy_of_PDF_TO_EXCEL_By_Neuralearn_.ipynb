{
  "cells": [
    {
      "cell_type": "markdown",
      "metadata": {
        "id": "view-in-github",
        "colab_type": "text"
      },
      "source": [
        "<a href=\"https://colab.research.google.com/github/ricrichardthomas1/info501/blob/main/Copy_of_PDF_TO_EXCEL_By_Neuralearn_.ipynb\" target=\"_parent\"><img src=\"https://colab.research.google.com/assets/colab-badge.svg\" alt=\"Open In Colab\"/></a>"
      ]
    },
    {
      "cell_type": "code",
      "source": [
        "from PIL import Image\n",
        "import cv2\n",
        "import numpy as np\n",
        "import pandas as pd\n",
        "import tensorflow as tf"
      ],
      "metadata": {
        "id": "mhEjVUbiUytV"
      },
      "execution_count": null,
      "outputs": []
    },
    {
      "cell_type": "code",
      "source": [
        "#!pip install paddlepaddle-gpu==2.3.2 cudatoolkit==10.2"
      ],
      "metadata": {
        "id": "JejuCeNXHckg"
      },
      "execution_count": null,
      "outputs": []
    },
    {
      "cell_type": "code",
      "source": [
        "!pip install paddlepaddle-gpu==2.3.0.post110 -f https://www.paddlepaddle.org.cn/whl/linux/mkl/avx/stable.html"
      ],
      "metadata": {
        "colab": {
          "base_uri": "https://localhost:8080/"
        },
        "id": "xWhdOt9Jay6z",
        "outputId": "5463cffd-cb35-40af-b95b-300dd515cd1a"
      },
      "execution_count": null,
      "outputs": [
        {
          "output_type": "stream",
          "name": "stdout",
          "text": [
            "Looking in links: https://www.paddlepaddle.org.cn/whl/linux/mkl/avx/stable.html\n",
            "Collecting paddlepaddle-gpu==2.3.0.post110\n",
            "  Downloading https://paddle-wheel.bj.bcebos.com/2.3.0/linux/linux-gpu-cuda11.0-cudnn8-mkl-gcc8.2-avx/paddlepaddle_gpu-2.3.0.post110-cp310-cp310-linux_x86_64.whl (532.9 MB)\n",
            "\u001b[2K     \u001b[90m━━━━━━━━━━━━━━━━━━━━━━━━━━━━━━━━━━━━━━━━\u001b[0m \u001b[32m532.9/532.9 MB\u001b[0m \u001b[31m2.5 MB/s\u001b[0m eta \u001b[36m0:00:00\u001b[0m\n",
            "\u001b[?25hRequirement already satisfied: requests>=2.20.0 in /usr/local/lib/python3.10/dist-packages (from paddlepaddle-gpu==2.3.0.post110) (2.31.0)\n",
            "Requirement already satisfied: numpy>=1.13 in /usr/local/lib/python3.10/dist-packages (from paddlepaddle-gpu==2.3.0.post110) (1.23.5)\n",
            "Requirement already satisfied: protobuf>=3.1.0 in /usr/local/lib/python3.10/dist-packages (from paddlepaddle-gpu==2.3.0.post110) (3.20.3)\n",
            "Requirement already satisfied: Pillow in /usr/local/lib/python3.10/dist-packages (from paddlepaddle-gpu==2.3.0.post110) (9.4.0)\n",
            "Requirement already satisfied: six in /usr/local/lib/python3.10/dist-packages (from paddlepaddle-gpu==2.3.0.post110) (1.16.0)\n",
            "Requirement already satisfied: decorator in /usr/local/lib/python3.10/dist-packages (from paddlepaddle-gpu==2.3.0.post110) (4.4.2)\n",
            "Collecting astor (from paddlepaddle-gpu==2.3.0.post110)\n",
            "  Downloading astor-0.8.1-py2.py3-none-any.whl (27 kB)\n",
            "Collecting paddle-bfloat==0.1.2 (from paddlepaddle-gpu==2.3.0.post110)\n",
            "  Downloading paddle_bfloat-0.1.2-cp310-cp310-manylinux_2_5_x86_64.manylinux1_x86_64.manylinux_2_12_x86_64.manylinux2010_x86_64.whl (375 kB)\n",
            "\u001b[2K     \u001b[90m━━━━━━━━━━━━━━━━━━━━━━━━━━━━━━━━━━━━━━━━\u001b[0m \u001b[32m375.7/375.7 kB\u001b[0m \u001b[31m10.4 MB/s\u001b[0m eta \u001b[36m0:00:00\u001b[0m\n",
            "\u001b[?25hRequirement already satisfied: opt-einsum==3.3.0 in /usr/local/lib/python3.10/dist-packages (from paddlepaddle-gpu==2.3.0.post110) (3.3.0)\n",
            "Requirement already satisfied: charset-normalizer<4,>=2 in /usr/local/lib/python3.10/dist-packages (from requests>=2.20.0->paddlepaddle-gpu==2.3.0.post110) (3.3.2)\n",
            "Requirement already satisfied: idna<4,>=2.5 in /usr/local/lib/python3.10/dist-packages (from requests>=2.20.0->paddlepaddle-gpu==2.3.0.post110) (3.4)\n",
            "Requirement already satisfied: urllib3<3,>=1.21.1 in /usr/local/lib/python3.10/dist-packages (from requests>=2.20.0->paddlepaddle-gpu==2.3.0.post110) (2.0.7)\n",
            "Requirement already satisfied: certifi>=2017.4.17 in /usr/local/lib/python3.10/dist-packages (from requests>=2.20.0->paddlepaddle-gpu==2.3.0.post110) (2023.7.22)\n",
            "Installing collected packages: paddle-bfloat, astor, paddlepaddle-gpu\n",
            "Successfully installed astor-0.8.1 paddle-bfloat-0.1.2 paddlepaddle-gpu-2.3.0.post110\n"
          ]
        }
      ]
    },
    {
      "cell_type": "markdown",
      "metadata": {
        "id": "dvKiMyj2feUe"
      },
      "source": [
        "# pdf2image"
      ]
    },
    {
      "cell_type": "markdown",
      "source": [
        "## Installation"
      ],
      "metadata": {
        "id": "aIz56VvlWkf-"
      }
    },
    {
      "cell_type": "code",
      "source": [
        "!pip install pdf2image\n",
        "!apt-get update\n",
        "!apt-get install poppler-utils"
      ],
      "metadata": {
        "colab": {
          "base_uri": "https://localhost:8080/"
        },
        "id": "biSgyAkWnUD3",
        "outputId": "c955668d-a835-4838-ef09-c378b000ff2a"
      },
      "execution_count": null,
      "outputs": [
        {
          "output_type": "stream",
          "name": "stdout",
          "text": [
            "Collecting pdf2image\n",
            "  Downloading pdf2image-1.16.3-py3-none-any.whl (11 kB)\n",
            "Requirement already satisfied: pillow in /usr/local/lib/python3.10/dist-packages (from pdf2image) (9.4.0)\n",
            "Installing collected packages: pdf2image\n",
            "Successfully installed pdf2image-1.16.3\n",
            "Get:1 https://cloud.r-project.org/bin/linux/ubuntu jammy-cran40/ InRelease [3,626 B]\n",
            "Get:2 https://developer.download.nvidia.com/compute/cuda/repos/ubuntu2204/x86_64  InRelease [1,581 B]\n",
            "Get:3 http://security.ubuntu.com/ubuntu jammy-security InRelease [110 kB]\n",
            "Hit:4 http://archive.ubuntu.com/ubuntu jammy InRelease\n",
            "Get:5 http://archive.ubuntu.com/ubuntu jammy-updates InRelease [119 kB]\n",
            "Get:6 https://cloud.r-project.org/bin/linux/ubuntu jammy-cran40/ Packages [47.2 kB]\n",
            "Get:7 https://developer.download.nvidia.com/compute/cuda/repos/ubuntu2204/x86_64  Packages [632 kB]\n",
            "Hit:8 http://archive.ubuntu.com/ubuntu jammy-backports InRelease\n",
            "Get:9 http://security.ubuntu.com/ubuntu jammy-security/universe amd64 Packages [1,016 kB]\n",
            "Get:10 http://archive.ubuntu.com/ubuntu jammy-updates/universe amd64 Packages [1,287 kB]\n",
            "Get:11 https://ppa.launchpadcontent.net/c2d4u.team/c2d4u4.0+/ubuntu jammy InRelease [18.1 kB]\n",
            "Get:12 http://security.ubuntu.com/ubuntu jammy-security/main amd64 Packages [1,250 kB]\n",
            "Hit:13 https://ppa.launchpadcontent.net/deadsnakes/ppa/ubuntu jammy InRelease\n",
            "Get:14 http://security.ubuntu.com/ubuntu jammy-security/restricted amd64 Packages [1,472 kB]\n",
            "Get:15 http://archive.ubuntu.com/ubuntu jammy-updates/main amd64 Packages [1,521 kB]\n",
            "Get:16 http://archive.ubuntu.com/ubuntu jammy-updates/restricted amd64 Packages [1,498 kB]\n",
            "Get:17 https://ppa.launchpadcontent.net/graphics-drivers/ppa/ubuntu jammy InRelease [24.3 kB]\n",
            "Hit:18 https://ppa.launchpadcontent.net/ubuntugis/ppa/ubuntu jammy InRelease\n",
            "Get:19 https://ppa.launchpadcontent.net/c2d4u.team/c2d4u4.0+/ubuntu jammy/main Sources [2,244 kB]\n",
            "Get:20 https://ppa.launchpadcontent.net/c2d4u.team/c2d4u4.0+/ubuntu jammy/main amd64 Packages [1,152 kB]\n",
            "Get:21 https://ppa.launchpadcontent.net/graphics-drivers/ppa/ubuntu jammy/main amd64 Packages [39.5 kB]\n",
            "Fetched 12.4 MB in 2s (5,486 kB/s)\n",
            "Reading package lists... Done\n",
            "Reading package lists... Done\n",
            "Building dependency tree... Done\n",
            "Reading state information... Done\n",
            "The following additional packages will be installed:\n",
            "  libpoppler-dev libpoppler-private-dev libpoppler118\n",
            "Recommended packages:\n",
            "  poppler-data\n",
            "The following NEW packages will be installed:\n",
            "  poppler-utils\n",
            "The following packages will be upgraded:\n",
            "  libpoppler-dev libpoppler-private-dev libpoppler118\n",
            "3 upgraded, 1 newly installed, 0 to remove and 35 not upgraded.\n",
            "Need to get 1,462 kB of archives.\n",
            "After this operation, 696 kB of additional disk space will be used.\n",
            "Get:1 http://archive.ubuntu.com/ubuntu jammy-updates/main amd64 libpoppler-private-dev amd64 22.02.0-2ubuntu0.3 [199 kB]\n",
            "Get:2 http://archive.ubuntu.com/ubuntu jammy-updates/main amd64 libpoppler-dev amd64 22.02.0-2ubuntu0.3 [5,182 B]\n",
            "Get:3 http://archive.ubuntu.com/ubuntu jammy-updates/main amd64 libpoppler118 amd64 22.02.0-2ubuntu0.3 [1,072 kB]\n",
            "Get:4 http://archive.ubuntu.com/ubuntu jammy-updates/main amd64 poppler-utils amd64 22.02.0-2ubuntu0.3 [186 kB]\n",
            "Fetched 1,462 kB in 1s (1,633 kB/s)\n",
            "(Reading database ... 120880 files and directories currently installed.)\n",
            "Preparing to unpack .../libpoppler-private-dev_22.02.0-2ubuntu0.3_amd64.deb ...\n",
            "Unpacking libpoppler-private-dev:amd64 (22.02.0-2ubuntu0.3) over (22.02.0-2ubuntu0.2) ...\n",
            "Preparing to unpack .../libpoppler-dev_22.02.0-2ubuntu0.3_amd64.deb ...\n",
            "Unpacking libpoppler-dev:amd64 (22.02.0-2ubuntu0.3) over (22.02.0-2ubuntu0.2) ...\n",
            "Preparing to unpack .../libpoppler118_22.02.0-2ubuntu0.3_amd64.deb ...\n",
            "Unpacking libpoppler118:amd64 (22.02.0-2ubuntu0.3) over (22.02.0-2ubuntu0.2) ...\n",
            "Selecting previously unselected package poppler-utils.\n",
            "Preparing to unpack .../poppler-utils_22.02.0-2ubuntu0.3_amd64.deb ...\n",
            "Unpacking poppler-utils (22.02.0-2ubuntu0.3) ...\n",
            "Setting up libpoppler118:amd64 (22.02.0-2ubuntu0.3) ...\n",
            "Setting up poppler-utils (22.02.0-2ubuntu0.3) ...\n",
            "Setting up libpoppler-dev:amd64 (22.02.0-2ubuntu0.3) ...\n",
            "Setting up libpoppler-private-dev:amd64 (22.02.0-2ubuntu0.3) ...\n",
            "Processing triggers for man-db (2.10.2-1) ...\n",
            "Processing triggers for libc-bin (2.35-0ubuntu3.4) ...\n",
            "/sbin/ldconfig.real: /usr/local/lib/libtbbbind.so.3 is not a symbolic link\n",
            "\n",
            "/sbin/ldconfig.real: /usr/local/lib/libtbbbind_2_5.so.3 is not a symbolic link\n",
            "\n",
            "/sbin/ldconfig.real: /usr/local/lib/libtbbbind_2_0.so.3 is not a symbolic link\n",
            "\n",
            "/sbin/ldconfig.real: /usr/local/lib/libtbbmalloc.so.2 is not a symbolic link\n",
            "\n",
            "/sbin/ldconfig.real: /usr/local/lib/libtbb.so.12 is not a symbolic link\n",
            "\n",
            "/sbin/ldconfig.real: /usr/local/lib/libtbbmalloc_proxy.so.2 is not a symbolic link\n",
            "\n"
          ]
        }
      ]
    },
    {
      "cell_type": "markdown",
      "source": [
        "## Conversion"
      ],
      "metadata": {
        "id": "pLaguCz1WmF9"
      }
    },
    {
      "cell_type": "code",
      "source": [
        "from pdf2image import convert_from_path"
      ],
      "metadata": {
        "id": "HI1dzCGmkeWI"
      },
      "execution_count": null,
      "outputs": []
    },
    {
      "cell_type": "code",
      "source": [
        "images = convert_from_path('/content/sample.pdf')"
      ],
      "metadata": {
        "id": "xyhjFgqjkgG7"
      },
      "execution_count": null,
      "outputs": []
    },
    {
      "cell_type": "code",
      "source": [
        "!mkdir pages"
      ],
      "metadata": {
        "id": "M5hBWxpskgJW"
      },
      "execution_count": null,
      "outputs": []
    },
    {
      "cell_type": "code",
      "source": [
        "0"
      ],
      "metadata": {
        "id": "7mlH9ltkkgMB"
      },
      "execution_count": null,
      "outputs": []
    },
    {
      "cell_type": "markdown",
      "source": [
        "# Layout"
      ],
      "metadata": {
        "id": "Urwb7Q_OZC8t"
      }
    },
    {
      "cell_type": "markdown",
      "source": [
        "## Installation"
      ],
      "metadata": {
        "id": "vTkwQbF4FZPN"
      }
    },
    {
      "cell_type": "code",
      "source": [
        "#!python3 -m pip install paddlepaddle-gpu\n",
        "!pip install \"paddleocr>=2.0.1\"\n",
        "!pip install protobuf==3.20.0\n",
        "!git clone https://github.com/PaddlePaddle/PaddleOCR.git"
      ],
      "metadata": {
        "colab": {
          "base_uri": "https://localhost:8080/",
          "height": 1000
        },
        "id": "R0lRpQLkIpbZ",
        "outputId": "fb9a0b01-1191-4dab-dba0-692085bca018"
      },
      "execution_count": null,
      "outputs": [
        {
          "output_type": "stream",
          "name": "stdout",
          "text": [
            "Collecting paddleocr>=2.0.1\n",
            "  Downloading paddleocr-2.7.0.3-py3-none-any.whl (465 kB)\n",
            "\u001b[2K     \u001b[90m━━━━━━━━━━━━━━━━━━━━━━━━━━━━━━━━━━━━━━━━\u001b[0m \u001b[32m465.7/465.7 kB\u001b[0m \u001b[31m7.7 MB/s\u001b[0m eta \u001b[36m0:00:00\u001b[0m\n",
            "\u001b[?25hRequirement already satisfied: shapely in /usr/local/lib/python3.10/dist-packages (from paddleocr>=2.0.1) (2.0.2)\n",
            "Requirement already satisfied: scikit-image in /usr/local/lib/python3.10/dist-packages (from paddleocr>=2.0.1) (0.19.3)\n",
            "Requirement already satisfied: imgaug in /usr/local/lib/python3.10/dist-packages (from paddleocr>=2.0.1) (0.4.0)\n",
            "Collecting pyclipper (from paddleocr>=2.0.1)\n",
            "  Downloading pyclipper-1.3.0.post5-cp310-cp310-manylinux_2_12_x86_64.manylinux2010_x86_64.whl (908 kB)\n",
            "\u001b[2K     \u001b[90m━━━━━━━━━━━━━━━━━━━━━━━━━━━━━━━━━━━━━━━━\u001b[0m \u001b[32m908.3/908.3 kB\u001b[0m \u001b[31m14.5 MB/s\u001b[0m eta \u001b[36m0:00:00\u001b[0m\n",
            "\u001b[?25hCollecting lmdb (from paddleocr>=2.0.1)\n",
            "  Downloading lmdb-1.4.1-cp310-cp310-manylinux_2_17_x86_64.manylinux2014_x86_64.whl (299 kB)\n",
            "\u001b[2K     \u001b[90m━━━━━━━━━━━━━━━━━━━━━━━━━━━━━━━━━━━━━━━━\u001b[0m \u001b[32m299.2/299.2 kB\u001b[0m \u001b[31m16.2 MB/s\u001b[0m eta \u001b[36m0:00:00\u001b[0m\n",
            "\u001b[?25hRequirement already satisfied: tqdm in /usr/local/lib/python3.10/dist-packages (from paddleocr>=2.0.1) (4.66.1)\n",
            "Requirement already satisfied: numpy in /usr/local/lib/python3.10/dist-packages (from paddleocr>=2.0.1) (1.23.5)\n",
            "Collecting visualdl (from paddleocr>=2.0.1)\n",
            "  Downloading visualdl-2.5.3-py3-none-any.whl (6.3 MB)\n",
            "\u001b[2K     \u001b[90m━━━━━━━━━━━━━━━━━━━━━━━━━━━━━━━━━━━━━━━━\u001b[0m \u001b[32m6.3/6.3 MB\u001b[0m \u001b[31m35.8 MB/s\u001b[0m eta \u001b[36m0:00:00\u001b[0m\n",
            "\u001b[?25hCollecting rapidfuzz (from paddleocr>=2.0.1)\n",
            "  Downloading rapidfuzz-3.5.2-cp310-cp310-manylinux_2_17_x86_64.manylinux2014_x86_64.whl (3.3 MB)\n",
            "\u001b[2K     \u001b[90m━━━━━━━━━━━━━━━━━━━━━━━━━━━━━━━━━━━━━━━━\u001b[0m \u001b[32m3.3/3.3 MB\u001b[0m \u001b[31m65.8 MB/s\u001b[0m eta \u001b[36m0:00:00\u001b[0m\n",
            "\u001b[?25hCollecting opencv-python<=4.6.0.66 (from paddleocr>=2.0.1)\n",
            "  Downloading opencv_python-4.6.0.66-cp36-abi3-manylinux_2_17_x86_64.manylinux2014_x86_64.whl (60.9 MB)\n",
            "\u001b[2K     \u001b[90m━━━━━━━━━━━━━━━━━━━━━━━━━━━━━━━━━━━━━━━━\u001b[0m \u001b[32m60.9/60.9 MB\u001b[0m \u001b[31m10.6 MB/s\u001b[0m eta \u001b[36m0:00:00\u001b[0m\n",
            "\u001b[?25hCollecting opencv-contrib-python<=4.6.0.66 (from paddleocr>=2.0.1)\n",
            "  Downloading opencv_contrib_python-4.6.0.66-cp36-abi3-manylinux_2_17_x86_64.manylinux2014_x86_64.whl (67.1 MB)\n",
            "\u001b[2K     \u001b[90m━━━━━━━━━━━━━━━━━━━━━━━━━━━━━━━━━━━━━━━━\u001b[0m \u001b[32m67.1/67.1 MB\u001b[0m \u001b[31m10.5 MB/s\u001b[0m eta \u001b[36m0:00:00\u001b[0m\n",
            "\u001b[?25hRequirement already satisfied: cython in /usr/local/lib/python3.10/dist-packages (from paddleocr>=2.0.1) (3.0.5)\n",
            "Requirement already satisfied: lxml in /usr/local/lib/python3.10/dist-packages (from paddleocr>=2.0.1) (4.9.3)\n",
            "Collecting premailer (from paddleocr>=2.0.1)\n",
            "  Downloading premailer-3.10.0-py2.py3-none-any.whl (19 kB)\n",
            "Requirement already satisfied: openpyxl in /usr/local/lib/python3.10/dist-packages (from paddleocr>=2.0.1) (3.1.2)\n",
            "Collecting attrdict (from paddleocr>=2.0.1)\n",
            "  Downloading attrdict-2.0.1-py2.py3-none-any.whl (9.9 kB)\n",
            "Collecting PyMuPDF<1.21.0 (from paddleocr>=2.0.1)\n",
            "  Downloading PyMuPDF-1.20.2-cp310-cp310-manylinux_2_17_x86_64.manylinux2014_x86_64.whl (8.9 MB)\n",
            "\u001b[2K     \u001b[90m━━━━━━━━━━━━━━━━━━━━━━━━━━━━━━━━━━━━━━━━\u001b[0m \u001b[32m8.9/8.9 MB\u001b[0m \u001b[31m84.1 MB/s\u001b[0m eta \u001b[36m0:00:00\u001b[0m\n",
            "\u001b[?25hCollecting Pillow>=10.0.0 (from paddleocr>=2.0.1)\n",
            "  Downloading Pillow-10.1.0-cp310-cp310-manylinux_2_28_x86_64.whl (3.6 MB)\n",
            "\u001b[2K     \u001b[90m━━━━━━━━━━━━━━━━━━━━━━━━━━━━━━━━━━━━━━━━\u001b[0m \u001b[32m3.6/3.6 MB\u001b[0m \u001b[31m89.9 MB/s\u001b[0m eta \u001b[36m0:00:00\u001b[0m\n",
            "\u001b[?25hRequirement already satisfied: pyyaml in /usr/local/lib/python3.10/dist-packages (from paddleocr>=2.0.1) (6.0.1)\n",
            "Collecting python-docx (from paddleocr>=2.0.1)\n",
            "  Downloading python_docx-1.1.0-py3-none-any.whl (239 kB)\n",
            "\u001b[2K     \u001b[90m━━━━━━━━━━━━━━━━━━━━━━━━━━━━━━━━━━━━━━━━\u001b[0m \u001b[32m239.6/239.6 kB\u001b[0m \u001b[31m25.0 MB/s\u001b[0m eta \u001b[36m0:00:00\u001b[0m\n",
            "\u001b[?25hRequirement already satisfied: beautifulsoup4 in /usr/local/lib/python3.10/dist-packages (from paddleocr>=2.0.1) (4.11.2)\n",
            "Requirement already satisfied: fonttools>=4.24.0 in /usr/local/lib/python3.10/dist-packages (from paddleocr>=2.0.1) (4.44.3)\n",
            "Collecting fire>=0.3.0 (from paddleocr>=2.0.1)\n",
            "  Downloading fire-0.5.0.tar.gz (88 kB)\n",
            "\u001b[2K     \u001b[90m━━━━━━━━━━━━━━━━━━━━━━━━━━━━━━━━━━━━━━━━\u001b[0m \u001b[32m88.3/88.3 kB\u001b[0m \u001b[31m13.1 MB/s\u001b[0m eta \u001b[36m0:00:00\u001b[0m\n",
            "\u001b[?25h  Preparing metadata (setup.py) ... \u001b[?25l\u001b[?25hdone\n",
            "Collecting pdf2docx (from paddleocr>=2.0.1)\n",
            "  Downloading pdf2docx-0.5.6-py3-none-any.whl (148 kB)\n",
            "\u001b[2K     \u001b[90m━━━━━━━━━━━━━━━━━━━━━━━━━━━━━━━━━━━━━━━━\u001b[0m \u001b[32m148.4/148.4 kB\u001b[0m \u001b[31m17.2 MB/s\u001b[0m eta \u001b[36m0:00:00\u001b[0m\n",
            "\u001b[?25hRequirement already satisfied: six in /usr/local/lib/python3.10/dist-packages (from fire>=0.3.0->paddleocr>=2.0.1) (1.16.0)\n",
            "Requirement already satisfied: termcolor in /usr/local/lib/python3.10/dist-packages (from fire>=0.3.0->paddleocr>=2.0.1) (2.3.0)\n",
            "Requirement already satisfied: soupsieve>1.2 in /usr/local/lib/python3.10/dist-packages (from beautifulsoup4->paddleocr>=2.0.1) (2.5)\n",
            "Requirement already satisfied: scipy in /usr/local/lib/python3.10/dist-packages (from imgaug->paddleocr>=2.0.1) (1.11.3)\n",
            "Requirement already satisfied: matplotlib in /usr/local/lib/python3.10/dist-packages (from imgaug->paddleocr>=2.0.1) (3.7.1)\n",
            "Requirement already satisfied: imageio in /usr/local/lib/python3.10/dist-packages (from imgaug->paddleocr>=2.0.1) (2.31.6)\n",
            "Requirement already satisfied: networkx>=2.2 in /usr/local/lib/python3.10/dist-packages (from scikit-image->paddleocr>=2.0.1) (3.2.1)\n",
            "Requirement already satisfied: tifffile>=2019.7.26 in /usr/local/lib/python3.10/dist-packages (from scikit-image->paddleocr>=2.0.1) (2023.9.26)\n",
            "Requirement already satisfied: PyWavelets>=1.1.1 in /usr/local/lib/python3.10/dist-packages (from scikit-image->paddleocr>=2.0.1) (1.4.1)\n",
            "Requirement already satisfied: packaging>=20.0 in /usr/local/lib/python3.10/dist-packages (from scikit-image->paddleocr>=2.0.1) (23.2)\n",
            "Requirement already satisfied: et-xmlfile in /usr/local/lib/python3.10/dist-packages (from openpyxl->paddleocr>=2.0.1) (1.1.0)\n",
            "Requirement already satisfied: typing-extensions in /usr/local/lib/python3.10/dist-packages (from python-docx->paddleocr>=2.0.1) (4.5.0)\n",
            "Collecting cssselect (from premailer->paddleocr>=2.0.1)\n",
            "  Downloading cssselect-1.2.0-py2.py3-none-any.whl (18 kB)\n",
            "Collecting cssutils (from premailer->paddleocr>=2.0.1)\n",
            "  Downloading cssutils-2.9.0-py3-none-any.whl (398 kB)\n",
            "\u001b[2K     \u001b[90m━━━━━━━━━━━━━━━━━━━━━━━━━━━━━━━━━━━━━━━━\u001b[0m \u001b[32m398.5/398.5 kB\u001b[0m \u001b[31m43.3 MB/s\u001b[0m eta \u001b[36m0:00:00\u001b[0m\n",
            "\u001b[?25hRequirement already satisfied: requests in /usr/local/lib/python3.10/dist-packages (from premailer->paddleocr>=2.0.1) (2.31.0)\n",
            "Requirement already satisfied: cachetools in /usr/local/lib/python3.10/dist-packages (from premailer->paddleocr>=2.0.1) (5.3.2)\n",
            "Collecting bce-python-sdk (from visualdl->paddleocr>=2.0.1)\n",
            "  Downloading bce_python_sdk-0.8.97-py3-none-any.whl (241 kB)\n",
            "\u001b[2K     \u001b[90m━━━━━━━━━━━━━━━━━━━━━━━━━━━━━━━━━━━━━━━━\u001b[0m \u001b[32m241.5/241.5 kB\u001b[0m \u001b[31m31.6 MB/s\u001b[0m eta \u001b[36m0:00:00\u001b[0m\n",
            "\u001b[?25hRequirement already satisfied: flask>=1.1.1 in /usr/local/lib/python3.10/dist-packages (from visualdl->paddleocr>=2.0.1) (2.2.5)\n",
            "Collecting Flask-Babel>=3.0.0 (from visualdl->paddleocr>=2.0.1)\n",
            "  Downloading flask_babel-4.0.0-py3-none-any.whl (9.6 kB)\n",
            "Requirement already satisfied: protobuf>=3.20.0 in /usr/local/lib/python3.10/dist-packages (from visualdl->paddleocr>=2.0.1) (3.20.3)\n",
            "Requirement already satisfied: pandas in /usr/local/lib/python3.10/dist-packages (from visualdl->paddleocr>=2.0.1) (1.5.3)\n",
            "Collecting rarfile (from visualdl->paddleocr>=2.0.1)\n",
            "  Downloading rarfile-4.1-py3-none-any.whl (28 kB)\n",
            "Requirement already satisfied: psutil in /usr/local/lib/python3.10/dist-packages (from visualdl->paddleocr>=2.0.1) (5.9.5)\n",
            "Requirement already satisfied: Werkzeug>=2.2.2 in /usr/local/lib/python3.10/dist-packages (from flask>=1.1.1->visualdl->paddleocr>=2.0.1) (3.0.1)\n",
            "Requirement already satisfied: Jinja2>=3.0 in /usr/local/lib/python3.10/dist-packages (from flask>=1.1.1->visualdl->paddleocr>=2.0.1) (3.1.2)\n",
            "Requirement already satisfied: itsdangerous>=2.0 in /usr/local/lib/python3.10/dist-packages (from flask>=1.1.1->visualdl->paddleocr>=2.0.1) (2.1.2)\n",
            "Requirement already satisfied: click>=8.0 in /usr/local/lib/python3.10/dist-packages (from flask>=1.1.1->visualdl->paddleocr>=2.0.1) (8.1.7)\n",
            "Requirement already satisfied: Babel>=2.12 in /usr/local/lib/python3.10/dist-packages (from Flask-Babel>=3.0.0->visualdl->paddleocr>=2.0.1) (2.13.1)\n",
            "Requirement already satisfied: pytz>=2022.7 in /usr/local/lib/python3.10/dist-packages (from Flask-Babel>=3.0.0->visualdl->paddleocr>=2.0.1) (2023.3.post1)\n",
            "Collecting Pillow>=10.0.0 (from paddleocr>=2.0.1)\n",
            "  Downloading Pillow-10.0.1-cp310-cp310-manylinux_2_28_x86_64.whl (3.6 MB)\n",
            "\u001b[2K     \u001b[90m━━━━━━━━━━━━━━━━━━━━━━━━━━━━━━━━━━━━━━━━\u001b[0m \u001b[32m3.6/3.6 MB\u001b[0m \u001b[31m66.8 MB/s\u001b[0m eta \u001b[36m0:00:00\u001b[0m\n",
            "\u001b[?25hCollecting pycryptodome>=3.8.0 (from bce-python-sdk->visualdl->paddleocr>=2.0.1)\n",
            "  Downloading pycryptodome-3.19.0-cp35-abi3-manylinux_2_17_x86_64.manylinux2014_x86_64.whl (2.1 MB)\n",
            "\u001b[2K     \u001b[90m━━━━━━━━━━━━━━━━━━━━━━━━━━━━━━━━━━━━━━━━\u001b[0m \u001b[32m2.1/2.1 MB\u001b[0m \u001b[31m98.7 MB/s\u001b[0m eta \u001b[36m0:00:00\u001b[0m\n",
            "\u001b[?25hRequirement already satisfied: future>=0.6.0 in /usr/local/lib/python3.10/dist-packages (from bce-python-sdk->visualdl->paddleocr>=2.0.1) (0.18.3)\n",
            "Requirement already satisfied: contourpy>=1.0.1 in /usr/local/lib/python3.10/dist-packages (from matplotlib->imgaug->paddleocr>=2.0.1) (1.2.0)\n",
            "Requirement already satisfied: cycler>=0.10 in /usr/local/lib/python3.10/dist-packages (from matplotlib->imgaug->paddleocr>=2.0.1) (0.12.1)\n",
            "Requirement already satisfied: kiwisolver>=1.0.1 in /usr/local/lib/python3.10/dist-packages (from matplotlib->imgaug->paddleocr>=2.0.1) (1.4.5)\n",
            "Requirement already satisfied: pyparsing>=2.3.1 in /usr/local/lib/python3.10/dist-packages (from matplotlib->imgaug->paddleocr>=2.0.1) (3.1.1)\n",
            "Requirement already satisfied: python-dateutil>=2.7 in /usr/local/lib/python3.10/dist-packages (from matplotlib->imgaug->paddleocr>=2.0.1) (2.8.2)\n",
            "Requirement already satisfied: charset-normalizer<4,>=2 in /usr/local/lib/python3.10/dist-packages (from requests->premailer->paddleocr>=2.0.1) (3.3.2)\n",
            "Requirement already satisfied: idna<4,>=2.5 in /usr/local/lib/python3.10/dist-packages (from requests->premailer->paddleocr>=2.0.1) (3.4)\n",
            "Requirement already satisfied: urllib3<3,>=1.21.1 in /usr/local/lib/python3.10/dist-packages (from requests->premailer->paddleocr>=2.0.1) (2.0.7)\n",
            "Requirement already satisfied: certifi>=2017.4.17 in /usr/local/lib/python3.10/dist-packages (from requests->premailer->paddleocr>=2.0.1) (2023.7.22)\n",
            "Requirement already satisfied: MarkupSafe>=2.0 in /usr/local/lib/python3.10/dist-packages (from Jinja2>=3.0->flask>=1.1.1->visualdl->paddleocr>=2.0.1) (2.1.3)\n",
            "Building wheels for collected packages: fire\n",
            "  Building wheel for fire (setup.py) ... \u001b[?25l\u001b[?25hdone\n",
            "  Created wheel for fire: filename=fire-0.5.0-py2.py3-none-any.whl size=116933 sha256=618495e261a518eb20ca7e5aeec03d5552675493863320a48a05e760f5c610d7\n",
            "  Stored in directory: /root/.cache/pip/wheels/90/d4/f7/9404e5db0116bd4d43e5666eaa3e70ab53723e1e3ea40c9a95\n",
            "Successfully built fire\n",
            "Installing collected packages: pyclipper, lmdb, rarfile, rapidfuzz, python-docx, PyMuPDF, pycryptodome, Pillow, opencv-python, opencv-contrib-python, fire, cssutils, cssselect, attrdict, premailer, pdf2docx, bce-python-sdk, Flask-Babel, visualdl, paddleocr\n",
            "  Attempting uninstall: Pillow\n",
            "    Found existing installation: Pillow 9.4.0\n",
            "    Uninstalling Pillow-9.4.0:\n",
            "      Successfully uninstalled Pillow-9.4.0\n",
            "  Attempting uninstall: opencv-python\n",
            "    Found existing installation: opencv-python 4.8.0.76\n",
            "    Uninstalling opencv-python-4.8.0.76:\n",
            "      Successfully uninstalled opencv-python-4.8.0.76\n",
            "  Attempting uninstall: opencv-contrib-python\n",
            "    Found existing installation: opencv-contrib-python 4.8.0.76\n",
            "    Uninstalling opencv-contrib-python-4.8.0.76:\n",
            "      Successfully uninstalled opencv-contrib-python-4.8.0.76\n",
            "Successfully installed Flask-Babel-4.0.0 Pillow-10.0.1 PyMuPDF-1.20.2 attrdict-2.0.1 bce-python-sdk-0.8.97 cssselect-1.2.0 cssutils-2.9.0 fire-0.5.0 lmdb-1.4.1 opencv-contrib-python-4.6.0.66 opencv-python-4.6.0.66 paddleocr-2.7.0.3 pdf2docx-0.5.6 premailer-3.10.0 pyclipper-1.3.0.post5 pycryptodome-3.19.0 python-docx-1.1.0 rapidfuzz-3.5.2 rarfile-4.1 visualdl-2.5.3\n"
          ]
        },
        {
          "output_type": "display_data",
          "data": {
            "application/vnd.colab-display-data+json": {
              "pip_warning": {
                "packages": [
                  "PIL",
                  "cv2"
                ]
              }
            }
          },
          "metadata": {}
        },
        {
          "output_type": "stream",
          "name": "stdout",
          "text": [
            "Collecting protobuf==3.20.0\n",
            "  Downloading protobuf-3.20.0-cp310-cp310-manylinux_2_12_x86_64.manylinux2010_x86_64.whl (1.1 MB)\n",
            "\u001b[?25l     \u001b[90m━━━━━━━━━━━━━━━━━━━━━━━━━━━━━━━━━━━━━━━━\u001b[0m \u001b[32m0.0/1.1 MB\u001b[0m \u001b[31m?\u001b[0m eta \u001b[36m-:--:--\u001b[0m\r\u001b[2K     \u001b[91m━━━━━\u001b[0m\u001b[90m╺\u001b[0m\u001b[90m━━━━━━━━━━━━━━━━━━━━━━━━━━━━━━━━━━\u001b[0m \u001b[32m0.1/1.1 MB\u001b[0m \u001b[31m4.2 MB/s\u001b[0m eta \u001b[36m0:00:01\u001b[0m\r\u001b[2K     \u001b[91m━━━━━━━━━━━━━━━━━\u001b[0m\u001b[91m╸\u001b[0m\u001b[90m━━━━━━━━━━━━━━━━━━━━━━\u001b[0m \u001b[32m0.5/1.1 MB\u001b[0m \u001b[31m6.7 MB/s\u001b[0m eta \u001b[36m0:00:01\u001b[0m\r\u001b[2K     \u001b[91m━━━━━━━━━━━━━━━━━━━━━━━━━━━━━━━━━\u001b[0m\u001b[90m╺\u001b[0m\u001b[90m━━━━━━\u001b[0m \u001b[32m0.9/1.1 MB\u001b[0m \u001b[31m8.4 MB/s\u001b[0m eta \u001b[36m0:00:01\u001b[0m\r\u001b[2K     \u001b[90m━━━━━━━━━━━━━━━━━━━━━━━━━━━━━━━━━━━━━━━━\u001b[0m \u001b[32m1.1/1.1 MB\u001b[0m \u001b[31m8.3 MB/s\u001b[0m eta \u001b[36m0:00:00\u001b[0m\n",
            "\u001b[?25hInstalling collected packages: protobuf\n",
            "  Attempting uninstall: protobuf\n",
            "    Found existing installation: protobuf 3.20.3\n",
            "    Uninstalling protobuf-3.20.3:\n",
            "      Successfully uninstalled protobuf-3.20.3\n",
            "\u001b[31mERROR: pip's dependency resolver does not currently take into account all the packages that are installed. This behaviour is the source of the following dependency conflicts.\n",
            "google-ai-generativelanguage 0.3.3 requires protobuf!=3.20.0,!=3.20.1,!=4.21.0,!=4.21.1,!=4.21.2,!=4.21.3,!=4.21.4,!=4.21.5,<5.0.0dev,>=3.19.5, but you have protobuf 3.20.0 which is incompatible.\n",
            "google-api-core 2.11.1 requires protobuf!=3.20.0,!=3.20.1,!=4.21.0,!=4.21.1,!=4.21.2,!=4.21.3,!=4.21.4,!=4.21.5,<5.0.0.dev0,>=3.19.5, but you have protobuf 3.20.0 which is incompatible.\n",
            "google-cloud-bigquery 3.12.0 requires protobuf!=3.20.0,!=3.20.1,!=4.21.0,!=4.21.1,!=4.21.2,!=4.21.3,!=4.21.4,!=4.21.5,<5.0.0dev,>=3.19.5, but you have protobuf 3.20.0 which is incompatible.\n",
            "google-cloud-bigquery-connection 1.12.1 requires protobuf!=3.20.0,!=3.20.1,!=4.21.0,!=4.21.1,!=4.21.2,!=4.21.3,!=4.21.4,!=4.21.5,<5.0.0dev,>=3.19.5, but you have protobuf 3.20.0 which is incompatible.\n",
            "google-cloud-bigquery-storage 2.22.0 requires protobuf!=3.20.0,!=3.20.1,!=4.21.0,!=4.21.1,!=4.21.2,!=4.21.3,!=4.21.4,!=4.21.5,<5.0.0dev,>=3.19.5, but you have protobuf 3.20.0 which is incompatible.\n",
            "google-cloud-datastore 2.15.2 requires protobuf!=3.20.0,!=3.20.1,!=4.21.0,!=4.21.1,!=4.21.2,!=4.21.3,!=4.21.4,!=4.21.5,<5.0.0dev,>=3.19.5, but you have protobuf 3.20.0 which is incompatible.\n",
            "google-cloud-firestore 2.11.1 requires protobuf!=3.20.0,!=3.20.1,!=4.21.0,!=4.21.1,!=4.21.2,!=4.21.3,!=4.21.4,!=4.21.5,<5.0.0dev,>=3.19.5, but you have protobuf 3.20.0 which is incompatible.\n",
            "google-cloud-functions 1.13.3 requires protobuf!=3.20.0,!=3.20.1,!=4.21.0,!=4.21.1,!=4.21.2,!=4.21.3,!=4.21.4,!=4.21.5,<5.0.0dev,>=3.19.5, but you have protobuf 3.20.0 which is incompatible.\n",
            "google-cloud-iam 2.12.2 requires protobuf!=3.20.0,!=3.20.1,!=4.21.0,!=4.21.1,!=4.21.2,!=4.21.3,!=4.21.4,!=4.21.5,<5.0.0dev,>=3.19.5, but you have protobuf 3.20.0 which is incompatible.\n",
            "google-cloud-language 2.9.1 requires protobuf!=3.20.0,!=3.20.1,!=4.21.0,!=4.21.1,!=4.21.2,!=4.21.3,!=4.21.4,!=4.21.5,<5.0.0dev,>=3.19.5, but you have protobuf 3.20.0 which is incompatible.\n",
            "google-cloud-resource-manager 1.10.4 requires protobuf!=3.20.0,!=3.20.1,!=4.21.0,!=4.21.1,!=4.21.2,!=4.21.3,!=4.21.4,!=4.21.5,<5.0.0dev,>=3.19.5, but you have protobuf 3.20.0 which is incompatible.\n",
            "google-cloud-translate 3.11.3 requires protobuf!=3.20.0,!=3.20.1,!=4.21.0,!=4.21.1,!=4.21.2,!=4.21.3,!=4.21.4,!=4.21.5,<5.0.0dev,>=3.19.5, but you have protobuf 3.20.0 which is incompatible.\n",
            "googleapis-common-protos 1.61.0 requires protobuf!=3.20.0,!=3.20.1,!=4.21.1,!=4.21.2,!=4.21.3,!=4.21.4,!=4.21.5,<5.0.0.dev0,>=3.19.5, but you have protobuf 3.20.0 which is incompatible.\n",
            "grpc-google-iam-v1 0.12.7 requires protobuf!=3.20.0,!=3.20.1,!=4.21.1,!=4.21.2,!=4.21.3,!=4.21.4,!=4.21.5,<5.0.0dev,>=3.19.5, but you have protobuf 3.20.0 which is incompatible.\n",
            "tensorflow 2.14.0 requires protobuf!=4.21.0,!=4.21.1,!=4.21.2,!=4.21.3,!=4.21.4,!=4.21.5,<5.0.0dev,>=3.20.3, but you have protobuf 3.20.0 which is incompatible.\n",
            "tensorflow-metadata 1.14.0 requires protobuf<4.21,>=3.20.3, but you have protobuf 3.20.0 which is incompatible.\u001b[0m\u001b[31m\n",
            "\u001b[0mSuccessfully installed protobuf-3.20.0\n"
          ]
        },
        {
          "output_type": "display_data",
          "data": {
            "application/vnd.colab-display-data+json": {
              "pip_warning": {
                "packages": [
                  "google"
                ]
              }
            }
          },
          "metadata": {}
        },
        {
          "output_type": "stream",
          "name": "stdout",
          "text": [
            "Cloning into 'PaddleOCR'...\n",
            "remote: Enumerating objects: 47620, done.\u001b[K\n",
            "remote: Counting objects: 100% (861/861), done.\u001b[K\n",
            "remote: Compressing objects: 100% (380/380), done.\u001b[K\n",
            "remote: Total 47620 (delta 556), reused 685 (delta 476), pack-reused 46759\u001b[K\n",
            "Receiving objects: 100% (47620/47620), 345.22 MiB | 3.21 MiB/s, done.\n",
            "Resolving deltas: 100% (33424/33424), done.\n"
          ]
        }
      ]
    },
    {
      "cell_type": "code",
      "source": [
        "a=5"
      ],
      "metadata": {
        "id": "IXEKTAa2_10K"
      },
      "execution_count": null,
      "outputs": []
    },
    {
      "cell_type": "code",
      "source": [
        "!wget https://paddleocr.bj.bcebos.com/whl/layoutparser-0.0.0-py3-none-any.whl\n",
        "!pip install -U layoutparser-0.0.0-py3-none-any.whl"
      ],
      "metadata": {
        "colab": {
          "base_uri": "https://localhost:8080/"
        },
        "id": "8gWFgGl5CXu6",
        "outputId": "1e0b9e5b-3c90-4253-a392-d4a39ea464e6"
      },
      "execution_count": null,
      "outputs": [
        {
          "output_type": "stream",
          "name": "stdout",
          "text": [
            "--2023-11-29 02:13:18--  https://paddleocr.bj.bcebos.com/whl/layoutparser-0.0.0-py3-none-any.whl\n",
            "Resolving paddleocr.bj.bcebos.com (paddleocr.bj.bcebos.com)... 103.235.46.61, 2409:8c04:1001:1002:0:ff:b001:368a\n",
            "Connecting to paddleocr.bj.bcebos.com (paddleocr.bj.bcebos.com)|103.235.46.61|:443... connected.\n",
            "HTTP request sent, awaiting response... 200 OK\n",
            "Length: 19145360 (18M) [application/octet-stream]\n",
            "Saving to: ‘layoutparser-0.0.0-py3-none-any.whl’\n",
            "\n",
            "layoutparser-0.0.0- 100%[===================>]  18.26M  4.80MB/s    in 16s     \n",
            "\n",
            "2023-11-29 02:13:36 (1.12 MB/s) - ‘layoutparser-0.0.0-py3-none-any.whl’ saved [19145360/19145360]\n",
            "\n",
            "Processing ./layoutparser-0.0.0-py3-none-any.whl\n",
            "Requirement already satisfied: numpy in /usr/local/lib/python3.10/dist-packages (from layoutparser==0.0.0) (1.23.5)\n",
            "Requirement already satisfied: opencv-python in /usr/local/lib/python3.10/dist-packages (from layoutparser==0.0.0) (4.6.0.66)\n",
            "Requirement already satisfied: pandas in /usr/local/lib/python3.10/dist-packages (from layoutparser==0.0.0) (1.5.3)\n",
            "Requirement already satisfied: pillow in /usr/local/lib/python3.10/dist-packages (from layoutparser==0.0.0) (10.0.1)\n",
            "Requirement already satisfied: pyyaml>=5.1 in /usr/local/lib/python3.10/dist-packages (from layoutparser==0.0.0) (6.0.1)\n",
            "Collecting iopath (from layoutparser==0.0.0)\n",
            "  Downloading iopath-0.1.10.tar.gz (42 kB)\n",
            "\u001b[2K     \u001b[90m━━━━━━━━━━━━━━━━━━━━━━━━━━━━━━━━━━━━━━━━\u001b[0m \u001b[32m42.2/42.2 kB\u001b[0m \u001b[31m1.5 MB/s\u001b[0m eta \u001b[36m0:00:00\u001b[0m\n",
            "\u001b[?25h  Preparing metadata (setup.py) ... \u001b[?25l\u001b[?25hdone\n",
            "Requirement already satisfied: tqdm in /usr/local/lib/python3.10/dist-packages (from layoutparser==0.0.0) (4.66.1)\n",
            "Requirement already satisfied: typing_extensions in /usr/local/lib/python3.10/dist-packages (from iopath->layoutparser==0.0.0) (4.5.0)\n",
            "Collecting portalocker (from iopath->layoutparser==0.0.0)\n",
            "  Downloading portalocker-2.8.2-py3-none-any.whl (17 kB)\n",
            "Requirement already satisfied: python-dateutil>=2.8.1 in /usr/local/lib/python3.10/dist-packages (from pandas->layoutparser==0.0.0) (2.8.2)\n",
            "Requirement already satisfied: pytz>=2020.1 in /usr/local/lib/python3.10/dist-packages (from pandas->layoutparser==0.0.0) (2023.3.post1)\n",
            "Requirement already satisfied: six>=1.5 in /usr/local/lib/python3.10/dist-packages (from python-dateutil>=2.8.1->pandas->layoutparser==0.0.0) (1.16.0)\n",
            "Building wheels for collected packages: iopath\n",
            "  Building wheel for iopath (setup.py) ... \u001b[?25l\u001b[?25hdone\n",
            "  Created wheel for iopath: filename=iopath-0.1.10-py3-none-any.whl size=31532 sha256=71b7a747cb31955d116a30dde9fb39aca2441f2b3e3113e42b8f990a9815ae25\n",
            "  Stored in directory: /root/.cache/pip/wheels/9a/a3/b6/ac0fcd1b4ed5cfeb3db92e6a0e476cfd48ed0df92b91080c1d\n",
            "Successfully built iopath\n",
            "Installing collected packages: portalocker, iopath, layoutparser\n",
            "Successfully installed iopath-0.1.10 layoutparser-0.0.0 portalocker-2.8.2\n"
          ]
        }
      ]
    },
    {
      "cell_type": "markdown",
      "source": [
        "## Table Extraction"
      ],
      "metadata": {
        "id": "w5MA08E0F8aU"
      }
    },
    {
      "cell_type": "code",
      "source": [
        "!python3 -m pip install --force-reinstall paddlepaddle-gpu==2.3.0.post110 -f https://www.paddlepaddle.org.cn/whl/linux/mkl/avx/stable.html"
      ],
      "metadata": {
        "colab": {
          "base_uri": "https://localhost:8080/"
        },
        "id": "_nhp-8aj3Ah5",
        "outputId": "ca52cecd-ba53-4142-c6e3-8c01a72f64a2"
      },
      "execution_count": null,
      "outputs": [
        {
          "output_type": "stream",
          "name": "stdout",
          "text": [
            "Looking in links: https://www.paddlepaddle.org.cn/whl/linux/mkl/avx/stable.html\n",
            "Collecting paddlepaddle-gpu==2.3.0.post110\n",
            "  Using cached https://paddle-wheel.bj.bcebos.com/2.3.0/linux/linux-gpu-cuda11.0-cudnn8-mkl-gcc8.2-avx/paddlepaddle_gpu-2.3.0.post110-cp310-cp310-linux_x86_64.whl (532.9 MB)\n",
            "Collecting requests>=2.20.0 (from paddlepaddle-gpu==2.3.0.post110)\n",
            "  Downloading requests-2.31.0-py3-none-any.whl (62 kB)\n",
            "\u001b[2K     \u001b[90m━━━━━━━━━━━━━━━━━━━━━━━━━━━━━━━━━━━━━━━━\u001b[0m \u001b[32m62.6/62.6 kB\u001b[0m \u001b[31m1.6 MB/s\u001b[0m eta \u001b[36m0:00:00\u001b[0m\n",
            "\u001b[?25hCollecting numpy>=1.13 (from paddlepaddle-gpu==2.3.0.post110)\n",
            "  Using cached numpy-1.26.2-cp310-cp310-manylinux_2_17_x86_64.manylinux2014_x86_64.whl (18.2 MB)\n",
            "Collecting protobuf>=3.1.0 (from paddlepaddle-gpu==2.3.0.post110)\n",
            "  Using cached protobuf-4.25.1-cp37-abi3-manylinux2014_x86_64.whl (294 kB)\n",
            "Collecting Pillow (from paddlepaddle-gpu==2.3.0.post110)\n",
            "  Using cached Pillow-10.1.0-cp310-cp310-manylinux_2_28_x86_64.whl (3.6 MB)\n",
            "Collecting six (from paddlepaddle-gpu==2.3.0.post110)\n",
            "  Downloading six-1.16.0-py2.py3-none-any.whl (11 kB)\n",
            "Collecting decorator (from paddlepaddle-gpu==2.3.0.post110)\n",
            "  Using cached decorator-5.1.1-py3-none-any.whl (9.1 kB)\n",
            "Collecting astor (from paddlepaddle-gpu==2.3.0.post110)\n",
            "  Using cached astor-0.8.1-py2.py3-none-any.whl (27 kB)\n",
            "Collecting paddle-bfloat==0.1.2 (from paddlepaddle-gpu==2.3.0.post110)\n",
            "  Using cached paddle_bfloat-0.1.2-cp310-cp310-manylinux_2_5_x86_64.manylinux1_x86_64.manylinux_2_12_x86_64.manylinux2010_x86_64.whl (375 kB)\n",
            "Collecting opt-einsum==3.3.0 (from paddlepaddle-gpu==2.3.0.post110)\n",
            "  Using cached opt_einsum-3.3.0-py3-none-any.whl (65 kB)\n",
            "Collecting charset-normalizer<4,>=2 (from requests>=2.20.0->paddlepaddle-gpu==2.3.0.post110)\n",
            "  Downloading charset_normalizer-3.3.2-cp310-cp310-manylinux_2_17_x86_64.manylinux2014_x86_64.whl (142 kB)\n",
            "\u001b[2K     \u001b[90m━━━━━━━━━━━━━━━━━━━━━━━━━━━━━━━━━━━━━━━━\u001b[0m \u001b[32m142.1/142.1 kB\u001b[0m \u001b[31m6.2 MB/s\u001b[0m eta \u001b[36m0:00:00\u001b[0m\n",
            "\u001b[?25hCollecting idna<4,>=2.5 (from requests>=2.20.0->paddlepaddle-gpu==2.3.0.post110)\n",
            "  Using cached idna-3.6-py3-none-any.whl (61 kB)\n",
            "Collecting urllib3<3,>=1.21.1 (from requests>=2.20.0->paddlepaddle-gpu==2.3.0.post110)\n",
            "  Downloading urllib3-2.1.0-py3-none-any.whl (104 kB)\n",
            "\u001b[2K     \u001b[90m━━━━━━━━━━━━━━━━━━━━━━━━━━━━━━━━━━━━━━━━\u001b[0m \u001b[32m104.6/104.6 kB\u001b[0m \u001b[31m7.1 MB/s\u001b[0m eta \u001b[36m0:00:00\u001b[0m\n",
            "\u001b[?25hCollecting certifi>=2017.4.17 (from requests>=2.20.0->paddlepaddle-gpu==2.3.0.post110)\n",
            "  Using cached certifi-2023.11.17-py3-none-any.whl (162 kB)\n",
            "Installing collected packages: paddle-bfloat, urllib3, six, protobuf, Pillow, numpy, idna, decorator, charset-normalizer, certifi, astor, requests, opt-einsum, paddlepaddle-gpu\n",
            "  Attempting uninstall: paddle-bfloat\n",
            "    Found existing installation: paddle-bfloat 0.1.2\n",
            "    Uninstalling paddle-bfloat-0.1.2:\n",
            "      Successfully uninstalled paddle-bfloat-0.1.2\n",
            "  Attempting uninstall: urllib3\n",
            "    Found existing installation: urllib3 2.0.7\n",
            "    Uninstalling urllib3-2.0.7:\n",
            "      Successfully uninstalled urllib3-2.0.7\n",
            "  Attempting uninstall: six\n",
            "    Found existing installation: six 1.16.0\n",
            "    Uninstalling six-1.16.0:\n",
            "      Successfully uninstalled six-1.16.0\n",
            "  Attempting uninstall: protobuf\n",
            "    Found existing installation: protobuf 4.25.1\n",
            "    Uninstalling protobuf-4.25.1:\n",
            "      Successfully uninstalled protobuf-4.25.1\n",
            "  Attempting uninstall: Pillow\n",
            "    Found existing installation: Pillow 10.1.0\n",
            "    Uninstalling Pillow-10.1.0:\n",
            "      Successfully uninstalled Pillow-10.1.0\n",
            "  Attempting uninstall: numpy\n",
            "    Found existing installation: numpy 1.26.2\n",
            "    Uninstalling numpy-1.26.2:\n",
            "      Successfully uninstalled numpy-1.26.2\n",
            "  Attempting uninstall: idna\n",
            "    Found existing installation: idna 3.6\n",
            "    Uninstalling idna-3.6:\n",
            "      Successfully uninstalled idna-3.6\n",
            "  Attempting uninstall: decorator\n",
            "    Found existing installation: decorator 5.1.1\n",
            "    Uninstalling decorator-5.1.1:\n",
            "      Successfully uninstalled decorator-5.1.1\n",
            "  Attempting uninstall: charset-normalizer\n",
            "    Found existing installation: charset-normalizer 3.3.2\n",
            "    Uninstalling charset-normalizer-3.3.2:\n",
            "      Successfully uninstalled charset-normalizer-3.3.2\n",
            "  Attempting uninstall: certifi\n",
            "    Found existing installation: certifi 2023.11.17\n",
            "    Uninstalling certifi-2023.11.17:\n",
            "      Successfully uninstalled certifi-2023.11.17\n",
            "  Attempting uninstall: astor\n",
            "    Found existing installation: astor 0.8.1\n",
            "    Uninstalling astor-0.8.1:\n",
            "      Successfully uninstalled astor-0.8.1\n",
            "  Attempting uninstall: requests\n",
            "    Found existing installation: requests 2.31.0\n",
            "    Uninstalling requests-2.31.0:\n",
            "      Successfully uninstalled requests-2.31.0\n",
            "  Attempting uninstall: opt-einsum\n",
            "    Found existing installation: opt-einsum 3.3.0\n",
            "    Uninstalling opt-einsum-3.3.0:\n",
            "      Successfully uninstalled opt-einsum-3.3.0\n",
            "  Attempting uninstall: paddlepaddle-gpu\n",
            "    Found existing installation: paddlepaddle-gpu 2.3.0.post110\n",
            "    Uninstalling paddlepaddle-gpu-2.3.0.post110:\n",
            "      Successfully uninstalled paddlepaddle-gpu-2.3.0.post110\n",
            "\u001b[31mERROR: pip's dependency resolver does not currently take into account all the packages that are installed. This behaviour is the source of the following dependency conflicts.\n",
            "ipython 7.34.0 requires jedi>=0.16, which is not installed.\n",
            "lida 0.0.10 requires fastapi, which is not installed.\n",
            "lida 0.0.10 requires kaleido, which is not installed.\n",
            "lida 0.0.10 requires python-multipart, which is not installed.\n",
            "lida 0.0.10 requires uvicorn, which is not installed.\n",
            "llmx 0.0.15a0 requires cohere, which is not installed.\n",
            "llmx 0.0.15a0 requires openai, which is not installed.\n",
            "llmx 0.0.15a0 requires tiktoken, which is not installed.\n",
            "cupy-cuda11x 11.0.0 requires numpy<1.26,>=1.20, but you have numpy 1.26.2 which is incompatible.\n",
            "imageio 2.31.6 requires pillow<10.1.0,>=8.3.2, but you have pillow 10.1.0 which is incompatible.\n",
            "jupyter-server 1.24.0 requires anyio<4,>=3.1.0, but you have anyio 4.1.0 which is incompatible.\n",
            "moviepy 1.0.3 requires decorator<5.0,>=4.0.2, but you have decorator 5.1.1 which is incompatible.\n",
            "paddlepaddle 2.5.0 requires paddle-bfloat==0.1.7, but you have paddle-bfloat 0.1.2 which is incompatible.\n",
            "tensorflow-metadata 1.14.0 requires protobuf<4.21,>=3.20.3, but you have protobuf 4.25.1 which is incompatible.\u001b[0m\u001b[31m\n",
            "\u001b[0mSuccessfully installed Pillow-10.1.0 astor-0.8.1 certifi-2023.11.17 charset-normalizer-3.3.2 decorator-5.1.1 idna-3.6 numpy-1.26.2 opt-einsum-3.3.0 paddle-bfloat-0.1.2 paddlepaddle-gpu-2.3.0.post110 protobuf-4.25.1 requests-2.31.0 six-1.16.0 urllib3-2.1.0\n"
          ]
        }
      ]
    },
    {
      "cell_type": "code",
      "source": [
        "!pip install paddlepaddle"
      ],
      "metadata": {
        "id": "DKlWGsQ86XLS",
        "outputId": "afca35db-e550-4836-99ab-dde3a46da3b5",
        "colab": {
          "base_uri": "https://localhost:8080/",
          "height": 443
        }
      },
      "execution_count": null,
      "outputs": [
        {
          "output_type": "stream",
          "name": "stdout",
          "text": [
            "Collecting paddlepaddle\n",
            "  Downloading paddlepaddle-2.5.2-cp310-cp310-manylinux1_x86_64.whl (126.5 MB)\n",
            "\u001b[2K     \u001b[90m━━━━━━━━━━━━━━━━━━━━━━━━━━━━━━━━━━━━━━━━\u001b[0m \u001b[32m126.5/126.5 MB\u001b[0m \u001b[31m2.2 MB/s\u001b[0m eta \u001b[36m0:00:00\u001b[0m\n",
            "\u001b[?25hRequirement already satisfied: httpx in /usr/local/lib/python3.10/dist-packages (from paddlepaddle) (0.25.2)\n",
            "Requirement already satisfied: numpy>=1.13 in /usr/local/lib/python3.10/dist-packages (from paddlepaddle) (1.25.0)\n",
            "Requirement already satisfied: Pillow in /usr/local/lib/python3.10/dist-packages (from paddlepaddle) (10.0.1)\n",
            "Requirement already satisfied: decorator in /usr/local/lib/python3.10/dist-packages (from paddlepaddle) (4.4.2)\n",
            "Requirement already satisfied: astor in /usr/local/lib/python3.10/dist-packages (from paddlepaddle) (0.8.1)\n",
            "Requirement already satisfied: opt-einsum==3.3.0 in /usr/local/lib/python3.10/dist-packages (from paddlepaddle) (3.3.0)\n",
            "Requirement already satisfied: protobuf>=3.20.2 in /usr/local/lib/python3.10/dist-packages (from paddlepaddle) (3.20.3)\n",
            "Requirement already satisfied: anyio in /usr/local/lib/python3.10/dist-packages (from httpx->paddlepaddle) (3.7.1)\n",
            "Requirement already satisfied: certifi in /usr/local/lib/python3.10/dist-packages (from httpx->paddlepaddle) (2023.11.17)\n",
            "Requirement already satisfied: httpcore==1.* in /usr/local/lib/python3.10/dist-packages (from httpx->paddlepaddle) (1.0.2)\n",
            "Requirement already satisfied: idna in /usr/local/lib/python3.10/dist-packages (from httpx->paddlepaddle) (3.6)\n",
            "Requirement already satisfied: sniffio in /usr/local/lib/python3.10/dist-packages (from httpx->paddlepaddle) (1.3.0)\n",
            "Requirement already satisfied: h11<0.15,>=0.13 in /usr/local/lib/python3.10/dist-packages (from httpcore==1.*->httpx->paddlepaddle) (0.14.0)\n",
            "Requirement already satisfied: exceptiongroup in /usr/local/lib/python3.10/dist-packages (from anyio->httpx->paddlepaddle) (1.2.0)\n",
            "Installing collected packages: paddlepaddle\n",
            "Successfully installed paddlepaddle-2.5.2\n"
          ]
        },
        {
          "output_type": "display_data",
          "data": {
            "application/vnd.colab-display-data+json": {
              "pip_warning": {
                "packages": [
                  "paddle"
                ]
              }
            }
          },
          "metadata": {}
        }
      ]
    },
    {
      "cell_type": "code",
      "source": [
        "import cv2\n",
        "import layoutparser as lp\n",
        "image = cv2.imread(\"/content/pages/page0.jpg\")\n",
        "\n",
        "image = image[..., ::-1]\n",
        "\n",
        "# load model\n",
        "model = lp.PaddleDetectionLayoutModel(config_path=\"lp://PubLayNet/ppyolov2_r50vd_dcn_365e_publaynet/config\",\n",
        "                                threshold=0.5,\n",
        "                                label_map={0: \"Text\", 1: \"Title\", 2: \"List\", 3:\"Table\", 4:\"Figure\"},\n",
        "                                enforce_cpu=False,\n",
        "                                enable_mkldnn=True)#math kernel library\n",
        "# detect\n",
        "layout = model.detect(image)"
      ],
      "metadata": {
        "id": "bw9SFYnMCX0E",
        "colab": {
          "base_uri": "https://localhost:8080/"
        },
        "outputId": "56d56bd3-1719-4cf7-99e1-ce94989eef57"
      },
      "execution_count": null,
      "outputs": [
        {
          "output_type": "stream",
          "name": "stdout",
          "text": [
            "download https://paddle-model-ecology.bj.bcebos.com/model/layout-parser/ppyolov2_r50vd_dcn_365e_publaynet.tar to /root/.paddledet/inference_model/ppyolov2_r50vd_dcn_365e_publaynet/ppyolov2_r50vd_dcn_365e_publaynet_infer/ppyolov2_r50vd_dcn_365e_publaynet.tar\n"
          ]
        },
        {
          "output_type": "stream",
          "name": "stderr",
          "text": [
            "100%|██████████| 221M/221M [00:26<00:00, 8.43MiB/s]\n"
          ]
        }
      ]
    },
    {
      "cell_type": "code",
      "source": [
        "layout"
      ],
      "metadata": {
        "id": "G76oO2WXCX6v",
        "colab": {
          "base_uri": "https://localhost:8080/"
        },
        "outputId": "e20a00a7-e837-4c41-fe33-1347cfe58b52"
      },
      "execution_count": null,
      "outputs": [
        {
          "output_type": "execute_result",
          "data": {
            "text/plain": [
              "Layout(_blocks=[TextBlock(block=Rectangle(x_1=76.97100830078125, y_1=290.4352111816406, x_2=1546.958251953125, y_2=939.7083740234375), text=None, id=None, type=Table, parent=None, next=None, score=0.9576694369316101), TextBlock(block=Rectangle(x_1=78.70347595214844, y_1=142.44998168945312, x_2=163.37379455566406, y_2=163.83197021484375), text=None, id=None, type=Title, parent=None, next=None, score=0.540829598903656), TextBlock(block=Rectangle(x_1=339.5079345703125, y_1=37.26459884643555, x_2=1579.27197265625, y_2=66.53082275390625), text=None, id=None, type=Text, parent=None, next=None, score=0.5199589729309082)], page_data={})"
            ]
          },
          "metadata": {},
          "execution_count": 2
        }
      ]
    },
    {
      "cell_type": "code",
      "source": [
        "x_1=0\n",
        "y_1=0\n",
        "x_2=0\n",
        "y_2=0\n",
        "\n",
        "for l in layout:\n",
        "  #print(l)\n",
        "  if l.type == 'Table':\n",
        "    x_1 = int(l.block.x_1)\n",
        "    print(l.block.x_1)\n",
        "    y_1 = int(l.block.y_1)\n",
        "    x_2 = int(l.block.x_2)\n",
        "    y_2 = int(l.block.y_2)\n",
        "\n",
        "    break"
      ],
      "metadata": {
        "id": "y3h0kCz-CX_U",
        "colab": {
          "base_uri": "https://localhost:8080/"
        },
        "outputId": "d551debc-06a9-4942-a069-1f5f4a506976"
      },
      "execution_count": null,
      "outputs": [
        {
          "output_type": "stream",
          "name": "stdout",
          "text": [
            "76.97101\n"
          ]
        }
      ]
    },
    {
      "cell_type": "code",
      "source": [
        "print(x_1,y_1,x_2,y_2)"
      ],
      "metadata": {
        "id": "cdiYPeCJCYIg",
        "colab": {
          "base_uri": "https://localhost:8080/"
        },
        "outputId": "95f01683-1fe4-42cf-8cf1-81f1c60baf1d"
      },
      "execution_count": null,
      "outputs": [
        {
          "output_type": "stream",
          "name": "stdout",
          "text": [
            "76 290 1546 939\n"
          ]
        }
      ]
    },
    {
      "cell_type": "code",
      "source": [
        "im = cv2.imread('/content/pages/page0.jpg')"
      ],
      "metadata": {
        "id": "F39kJV3hCYLV"
      },
      "execution_count": null,
      "outputs": []
    },
    {
      "cell_type": "code",
      "source": [
        "cv2.imwrite('ext_im.jpg', im[y_1:y_2,x_1:x_2])"
      ],
      "metadata": {
        "id": "EQDXSNijCYPs",
        "colab": {
          "base_uri": "https://localhost:8080/"
        },
        "outputId": "dade9399-5371-4cba-88d7-01db3d49d63b"
      },
      "execution_count": null,
      "outputs": [
        {
          "output_type": "execute_result",
          "data": {
            "text/plain": [
              "True"
            ]
          },
          "metadata": {},
          "execution_count": 6
        }
      ]
    },
    {
      "cell_type": "code",
      "source": [],
      "metadata": {
        "id": "7O2P4aIMor_e"
      },
      "execution_count": null,
      "outputs": []
    },
    {
      "cell_type": "markdown",
      "metadata": {
        "id": "EGwGhHnd8i_h"
      },
      "source": [
        "# Text Detection and Recognition"
      ]
    },
    {
      "cell_type": "code",
      "source": [
        "from paddleocr import PaddleOCR, draw_ocr"
      ],
      "metadata": {
        "id": "N6WQZXhLLDWk"
      },
      "execution_count": null,
      "outputs": []
    },
    {
      "cell_type": "code",
      "source": [
        "ocr = PaddleOCR(lang='en')\n",
        "image_path = '/content/ext_im.jpg'\n",
        "image_cv = cv2.imread(image_path)\n",
        "image_height = image_cv.shape[0]\n",
        "image_width = image_cv.shape[1]\n",
        "output = ocr.ocr(image_path)[0]"
      ],
      "metadata": {
        "colab": {
          "base_uri": "https://localhost:8080/"
        },
        "id": "A8bCZ9AULDZF",
        "outputId": "93fc1f4d-c224-435a-80e7-f2a8f801a12a"
      },
      "execution_count": null,
      "outputs": [
        {
          "output_type": "stream",
          "name": "stdout",
          "text": [
            "download https://paddleocr.bj.bcebos.com/PP-OCRv3/english/en_PP-OCRv3_det_infer.tar to /root/.paddleocr/whl/det/en/en_PP-OCRv3_det_infer/en_PP-OCRv3_det_infer.tar\n"
          ]
        },
        {
          "output_type": "stream",
          "name": "stderr",
          "text": [
            "100%|██████████| 4.00M/4.00M [00:01<00:00, 2.88MiB/s]\n"
          ]
        },
        {
          "output_type": "stream",
          "name": "stdout",
          "text": [
            "download https://paddleocr.bj.bcebos.com/PP-OCRv4/english/en_PP-OCRv4_rec_infer.tar to /root/.paddleocr/whl/rec/en/en_PP-OCRv4_rec_infer/en_PP-OCRv4_rec_infer.tar\n"
          ]
        },
        {
          "output_type": "stream",
          "name": "stderr",
          "text": [
            "100%|██████████| 10.2M/10.2M [00:01<00:00, 6.18MiB/s]\n"
          ]
        },
        {
          "output_type": "stream",
          "name": "stdout",
          "text": [
            "download https://paddleocr.bj.bcebos.com/dygraph_v2.0/ch/ch_ppocr_mobile_v2.0_cls_infer.tar to /root/.paddleocr/whl/cls/ch_ppocr_mobile_v2.0_cls_infer/ch_ppocr_mobile_v2.0_cls_infer.tar\n"
          ]
        },
        {
          "output_type": "stream",
          "name": "stderr",
          "text": [
            "100%|██████████| 2.19M/2.19M [00:01<00:00, 1.73MiB/s]"
          ]
        },
        {
          "output_type": "stream",
          "name": "stdout",
          "text": [
            "[2023/11/29 03:21:00] ppocr DEBUG: Namespace(help='==SUPPRESS==', use_gpu=False, use_xpu=False, use_npu=False, ir_optim=True, use_tensorrt=False, min_subgraph_size=15, precision='fp32', gpu_mem=500, gpu_id=0, image_dir=None, page_num=0, det_algorithm='DB', det_model_dir='/root/.paddleocr/whl/det/en/en_PP-OCRv3_det_infer', det_limit_side_len=960, det_limit_type='max', det_box_type='quad', det_db_thresh=0.3, det_db_box_thresh=0.6, det_db_unclip_ratio=1.5, max_batch_size=10, use_dilation=False, det_db_score_mode='fast', det_east_score_thresh=0.8, det_east_cover_thresh=0.1, det_east_nms_thresh=0.2, det_sast_score_thresh=0.5, det_sast_nms_thresh=0.2, det_pse_thresh=0, det_pse_box_thresh=0.85, det_pse_min_area=16, det_pse_scale=1, scales=[8, 16, 32], alpha=1.0, beta=1.0, fourier_degree=5, rec_algorithm='SVTR_LCNet', rec_model_dir='/root/.paddleocr/whl/rec/en/en_PP-OCRv4_rec_infer', rec_image_inverse=True, rec_image_shape='3, 48, 320', rec_batch_num=6, max_text_length=25, rec_char_dict_path='/usr/local/lib/python3.10/dist-packages/paddleocr/ppocr/utils/en_dict.txt', use_space_char=True, vis_font_path='./doc/fonts/simfang.ttf', drop_score=0.5, e2e_algorithm='PGNet', e2e_model_dir=None, e2e_limit_side_len=768, e2e_limit_type='max', e2e_pgnet_score_thresh=0.5, e2e_char_dict_path='./ppocr/utils/ic15_dict.txt', e2e_pgnet_valid_set='totaltext', e2e_pgnet_mode='fast', use_angle_cls=False, cls_model_dir='/root/.paddleocr/whl/cls/ch_ppocr_mobile_v2.0_cls_infer', cls_image_shape='3, 48, 192', label_list=['0', '180'], cls_batch_num=6, cls_thresh=0.9, enable_mkldnn=False, cpu_threads=10, use_pdserving=False, warmup=False, sr_model_dir=None, sr_image_shape='3, 32, 128', sr_batch_num=1, draw_img_save_dir='./inference_results', save_crop_res=False, crop_res_save_dir='./output', use_mp=False, total_process_num=1, process_id=0, benchmark=False, save_log_path='./log_output/', show_log=True, use_onnx=False, output='./output', table_max_len=488, table_algorithm='TableAttn', table_model_dir=None, merge_no_span_structure=True, table_char_dict_path=None, layout_model_dir=None, layout_dict_path=None, layout_score_threshold=0.5, layout_nms_threshold=0.5, kie_algorithm='LayoutXLM', ser_model_dir=None, re_model_dir=None, use_visual_backbone=True, ser_dict_path='../train_data/XFUND/class_list_xfun.txt', ocr_order_method=None, mode='structure', image_orientation=False, layout=True, table=True, ocr=True, recovery=False, use_pdf2docx_api=False, invert=False, binarize=False, alphacolor=(255, 255, 255), lang='en', det=True, rec=True, type='ocr', ocr_version='PP-OCRv4', structure_version='PP-StructureV2')\n"
          ]
        },
        {
          "output_type": "stream",
          "name": "stderr",
          "text": [
            "\n"
          ]
        },
        {
          "output_type": "stream",
          "name": "stdout",
          "text": [
            "[2023/11/29 03:21:00] ppocr WARNING: Since the angle classifier is not initialized, it will not be used during the forward process\n",
            "[2023/11/29 03:21:01] ppocr DEBUG: dt_boxes num : 324, elapsed : 0.5476534366607666\n",
            "[2023/11/29 03:21:45] ppocr DEBUG: rec_res num  : 324, elapsed : 43.64588022232056\n"
          ]
        }
      ]
    },
    {
      "cell_type": "code",
      "source": [
        "print(output)"
      ],
      "metadata": {
        "colab": {
          "base_uri": "https://localhost:8080/"
        },
        "id": "VBIDZA0XLDeA",
        "outputId": "4995c78b-c719-4bfa-8b7b-39cc5eec918f"
      },
      "execution_count": null,
      "outputs": [
        {
          "output_type": "stream",
          "name": "stdout",
          "text": [
            "[[[[55.0, 12.0], [121.0, 12.0], [121.0, 34.0], [55.0, 34.0]], ('Session', 0.9984383583068848)], [[[306.0, 12.0], [395.0, 12.0], [395.0, 34.0], [306.0, 34.0]], ('Attendance', 0.9945585131645203)], [[[481.0, 16.0], [571.0, 16.0], [571.0, 42.0], [481.0, 42.0]], ('Fee before', 0.9565925598144531)], [[[588.0, 19.0], [660.0, 19.0], [660.0, 41.0], [588.0, 41.0]], ('Total Fee', 0.9729307889938354)], [[[686.0, 19.0], [743.0, 19.0], [743.0, 42.0], [686.0, 42.0]], ('Hourly', 0.9985550045967102)], [[[776.0, 17.0], [818.0, 17.0], [818.0, 42.0], [776.0, 42.0]], ('CCS', 0.7697833180427551)], [[[847.0, 11.0], [1038.0, 11.0], [1038.0, 31.0], [847.0, 31.0]], ('Fee Reduction to Service', 0.9649375081062317)], [[[1054.0, 12.0], [1268.0, 12.0], [1268.0, 33.0], [1054.0, 33.0]], ('Fee Reduction to Guardian', 0.9822642803192139)], [[[1277.0, 17.0], [1335.0, 17.0], [1335.0, 41.0], [1277.0, 41.0]], ('Parent', 0.9978968501091003)], [[[2.0, 44.0], [21.0, 44.0], [21.0, 67.0], [2.0, 67.0]], ('irt', 0.7640679478645325)], [[[69.0, 42.0], [109.0, 42.0], [109.0, 67.0], [69.0, 67.0]], ('End', 0.9982981085777283)], [[[150.0, 44.0], [201.0, 44.0], [201.0, 67.0], [150.0, 67.0]], ('Hours', 0.9982653856277466)], [[[233.0, 44.0], [292.0, 44.0], [292.0, 67.0], [233.0, 67.0]], ('Sign In', 0.9573017954826355)], [[[312.0, 44.0], [390.0, 44.0], [390.0, 66.0], [312.0, 66.0]], ('Sign Out', 0.9760607481002808)], [[[410.0, 44.0], [464.0, 44.0], [464.0, 66.0], [410.0, 66.0]], ('Hours', 0.9975849986076355)], [[[485.0, 41.0], [568.0, 41.0], [568.0, 58.0], [485.0, 58.0]], ('Discounts', 0.995990514755249)], [[[586.0, 39.0], [661.0, 36.0], [662.0, 57.0], [587.0, 61.0]], ('for CCS', 0.8660011887550354)], [[[695.0, 41.0], [733.0, 41.0], [733.0, 59.0], [695.0, 59.0]], ('Fee', 0.9956526756286621)], [[[770.0, 35.0], [824.0, 40.0], [823.0, 63.0], [768.0, 59.0]], ('Hours', 0.9978485107421875)], [[[867.0, 42.0], [908.0, 42.0], [908.0, 67.0], [867.0, 67.0]], ('CCS', 0.7624296545982361)], [[[968.0, 44.0], [1020.0, 44.0], [1020.0, 66.0], [968.0, 66.0]], ('ACCS', 0.9607986211776733)], [[[1081.0, 42.0], [1121.0, 42.0], [1121.0, 67.0], [1081.0, 67.0]], ('CCS', 0.7280786037445068)], [[[1181.0, 44.0], [1233.0, 44.0], [1233.0, 66.0], [1181.0, 66.0]], ('ACCS', 0.9729924201965332)], [[[1266.0, 36.0], [1343.0, 39.0], [1342.0, 63.0], [1264.0, 59.0]], ('Payment', 0.9962372183799744)], [[[1358.0, 44.0], [1450.0, 44.0], [1450.0, 66.0], [1358.0, 66.0]], ('Educator ld', 0.9472303986549377)], [[[0.0, 67.0], [118.0, 67.0], [118.0, 94.0], [0.0, 94.0]], ('9CCS Week 1', 0.9083162546157837)], [[[2.0, 89.0], [28.0, 89.0], [28.0, 111.0], [2.0, 111.0]], ('00', 0.9758665561676025)], [[[66.0, 89.0], [113.0, 89.0], [113.0, 111.0], [66.0, 111.0]], ('08:00', 0.9699172973632812)], [[[184.0, 86.0], [224.0, 86.0], [224.0, 111.0], [184.0, 111.0]], ('1.00', 0.9755455255508423)], [[[240.0, 87.0], [288.0, 87.0], [288.0, 111.0], [240.0, 111.0]], ('07:06', 0.9578186273574829)], [[[328.0, 86.0], [375.0, 86.0], [375.0, 111.0], [328.0, 111.0]], ('08:00', 0.9323598742485046)], [[[446.0, 86.0], [485.0, 86.0], [485.0, 111.0], [446.0, 111.0]], ('0.90', 0.9956766366958618)], [[[519.0, 86.0], [570.0, 86.0], [570.0, 112.0], [519.0, 112.0]], ('$0.12', 0.9935413599014282)], [[[620.0, 86.0], [668.0, 86.0], [668.0, 111.0], [620.0, 111.0]], ('$0.12', 0.9963632822036743)], [[[695.0, 86.0], [735.0, 86.0], [735.0, 111.0], [695.0, 111.0]], ('1.05', 0.9962672591209412)], [[[784.0, 87.0], [841.0, 87.0], [841.0, 109.0], [784.0, 109.0]], ('1.0000', 0.993661642074585)], [[[884.0, 86.0], [931.0, 86.0], [931.0, 111.0], [884.0, 111.0]], ('1.111', 0.922309398651123)], [[[1031.0, 92.0], [1057.0, 92.0], [1057.0, 114.0], [1031.0, 114.0]], ('...', 0.6151735782623291)], [[[1292.0, 87.0], [1340.0, 87.0], [1340.0, 109.0], [1292.0, 109.0]], ('0.444', 0.9778963923454285)], [[[1357.0, 87.0], [1449.0, 87.0], [1449.0, 109.0], [1357.0, 109.0]], ('XXXXXXXX', 0.5647475123405457)], [[[0.0, 109.0], [29.0, 109.0], [29.0, 137.0], [0.0, 137.0]], ('00', 0.9324928522109985)], [[[67.0, 111.0], [113.0, 111.0], [113.0, 136.0], [67.0, 136.0]], ('18:00', 0.9811064004898071)], [[[176.0, 111.0], [224.0, 111.0], [224.0, 136.0], [176.0, 136.0]], ('10.00', 0.9952744245529175)], [[[242.0, 111.0], [288.0, 111.0], [288.0, 136.0], [242.0, 136.0]], ('08:00', 0.9765695333480835)], [[[329.0, 111.0], [375.0, 111.0], [375.0, 136.0], [329.0, 136.0]], ('17:47', 0.9803746342658997)], [[[446.0, 111.0], [485.0, 111.0], [485.0, 136.0], [446.0, 136.0]], ('9.78', 0.9877472519874573)], [[[513.0, 111.0], [551.0, 111.0], [551.0, 136.0], [513.0, 136.0]], ('$1.2', 0.9961933493614197)], [[[612.0, 111.0], [651.0, 111.0], [651.0, 136.0], [612.0, 136.0]], ('$1.2', 0.9185342788696289)], [[[695.0, 111.0], [735.0, 111.0], [735.0, 136.0], [695.0, 136.0]], ('1.05', 0.9951068162918091)], [[[778.0, 111.0], [841.0, 111.0], [841.0, 134.0], [778.0, 134.0]], ('10.0000', 0.9952878355979919)], [[[874.0, 109.0], [934.0, 109.0], [934.0, 137.0], [874.0, 137.0]], ('11.111', 0.9783804416656494)], [[[1029.0, 115.0], [1058.0, 115.0], [1058.0, 142.0], [1029.0, 142.0]], ('...', 0.7070837616920471)], [[[1283.0, 111.0], [1331.0, 107.0], [1333.0, 132.0], [1285.0, 136.0]], ('4.440', 0.9647364616394043)], [[[1358.0, 112.0], [1449.0, 112.0], [1449.0, 134.0], [1358.0, 134.0]], ('XXXXXXXX', 0.6282899975776672)], [[[0.0, 136.0], [29.0, 136.0], [29.0, 162.0], [0.0, 162.0]], ('00', 0.965233564376831)], [[[67.0, 137.0], [113.0, 137.0], [113.0, 161.0], [67.0, 161.0]], ('08:00', 0.9762507677078247)], [[[184.0, 136.0], [224.0, 136.0], [224.0, 161.0], [184.0, 161.0]], ('1.00', 0.9866602420806885)], [[[242.0, 137.0], [289.0, 137.0], [289.0, 161.0], [242.0, 161.0]], ('07:18', 0.9676241874694824)], [[[328.0, 137.0], [375.0, 137.0], [375.0, 161.0], [328.0, 161.0]], ('08:00', 0.9635583162307739)], [[[446.0, 136.0], [485.0, 136.0], [485.0, 161.0], [446.0, 161.0]], ('0.70', 0.995087206363678)], [[[521.0, 136.0], [567.0, 136.0], [567.0, 161.0], [521.0, 161.0]], ('$0.12', 0.9981265068054199)], [[[620.0, 136.0], [668.0, 136.0], [668.0, 161.0], [620.0, 161.0]], ('$0.12', 0.9972176551818848)], [[[695.0, 136.0], [735.0, 136.0], [735.0, 161.0], [695.0, 161.0]], ('1.05', 0.9947378635406494)], [[[786.0, 137.0], [841.0, 137.0], [841.0, 161.0], [786.0, 161.0]], ('1.0000', 0.9959571361541748)], [[[884.0, 136.0], [931.0, 136.0], [931.0, 161.0], [884.0, 161.0]], ('1.111', 0.9595572352409363)], [[[1029.0, 140.0], [1058.0, 140.0], [1058.0, 167.0], [1029.0, 167.0]], ('...', 0.5844716429710388)], [[[1240.0, 139.0], [1271.0, 139.0], [1271.0, 165.0], [1240.0, 165.0]], ('.', 0.5281165838241577)], [[[1292.0, 136.0], [1340.0, 136.0], [1340.0, 159.0], [1292.0, 159.0]], ('0.444', 0.9951778650283813)], [[[1357.0, 137.0], [1439.0, 137.0], [1439.0, 159.0], [1357.0, 159.0]], ('XXXXXXX', 0.6489881873130798)], [[[0.0, 161.0], [29.0, 161.0], [29.0, 187.0], [0.0, 187.0]], ('00', 0.970588207244873)], [[[67.0, 162.0], [113.0, 162.0], [113.0, 186.0], [67.0, 186.0]], ('18:00', 0.9578872919082642)], [[[176.0, 162.0], [224.0, 162.0], [224.0, 186.0], [176.0, 186.0]], ('10.00', 0.9935616254806519)], [[[242.0, 162.0], [288.0, 162.0], [288.0, 186.0], [242.0, 186.0]], ('08:00', 0.9807952642440796)], [[[329.0, 162.0], [375.0, 162.0], [375.0, 186.0], [329.0, 186.0]], ('17:52', 0.9580909013748169)], [[[444.0, 162.0], [485.0, 162.0], [485.0, 186.0], [444.0, 186.0]], ('9.87', 0.9966469407081604)], [[[513.0, 161.0], [551.0, 161.0], [551.0, 187.0], [513.0, 187.0]], ('$1.2', 0.9941308498382568)], [[[612.0, 161.0], [651.0, 161.0], [651.0, 186.0], [612.0, 186.0]], ('$1.2', 0.8759289383888245)], [[[695.0, 161.0], [735.0, 161.0], [735.0, 186.0], [695.0, 186.0]], ('1.05', 0.9932667016983032)], [[[778.0, 162.0], [841.0, 162.0], [841.0, 184.0], [778.0, 184.0]], ('10.0000', 0.9951663017272949)], [[[876.0, 162.0], [931.0, 162.0], [931.0, 186.0], [876.0, 186.0]], ('11.111', 0.9860977530479431)], [[[1031.0, 167.0], [1057.0, 167.0], [1057.0, 189.0], [1031.0, 189.0]], ('...', 0.5849895477294922)], [[[1130.0, 168.0], [1155.0, 168.0], [1155.0, 189.0], [1130.0, 189.0]], ('.', 0.5177924633026123)], [[[1285.0, 161.0], [1332.0, 161.0], [1332.0, 184.0], [1285.0, 184.0]], ('4.440', 0.9934467077255249)], [[[1357.0, 162.0], [1438.0, 162.0], [1438.0, 184.0], [1357.0, 184.0]], ('XXXXXXX', 0.7178208231925964)], [[[0.0, 187.0], [29.0, 187.0], [29.0, 214.0], [0.0, 214.0]], ('00', 0.9705678224563599)], [[[66.0, 187.0], [113.0, 187.0], [113.0, 212.0], [66.0, 212.0]], ('08:00', 0.9538149833679199)], [[[184.0, 187.0], [224.0, 187.0], [224.0, 212.0], [184.0, 212.0]], ('1.00', 0.9891010522842407)], [[[242.0, 187.0], [288.0, 187.0], [288.0, 212.0], [242.0, 212.0]], ('07:13', 0.9533505439758301)], [[[329.0, 187.0], [375.0, 187.0], [375.0, 212.0], [329.0, 212.0]], ('08:00', 0.9821057319641113)], [[[446.0, 187.0], [485.0, 187.0], [485.0, 212.0], [446.0, 212.0]], ('0.78', 0.9954159259796143)], [[[519.0, 187.0], [567.0, 187.0], [567.0, 212.0], [519.0, 212.0]], ('$0.12', 0.9973889589309692)], [[[620.0, 187.0], [668.0, 187.0], [668.0, 212.0], [620.0, 212.0]], ('$0.12', 0.9225014448165894)], [[[695.0, 187.0], [735.0, 187.0], [735.0, 212.0], [695.0, 212.0]], ('1.05', 0.9962136149406433)], [[[784.0, 186.0], [842.0, 186.0], [842.0, 214.0], [784.0, 214.0]], ('1.0000', 0.9947039484977722)], [[[884.0, 187.0], [931.0, 187.0], [931.0, 212.0], [884.0, 212.0]], ('1.111', 0.9533637762069702)], [[[1029.0, 190.0], [1058.0, 190.0], [1058.0, 217.0], [1029.0, 217.0]], ('...', 0.5321058034896851)], [[[1130.0, 193.0], [1155.0, 193.0], [1155.0, 215.0], [1130.0, 215.0]], ('..', 0.5142524838447571)], [[[1292.0, 187.0], [1340.0, 187.0], [1340.0, 211.0], [1292.0, 211.0]], ('0.444', 0.9504334330558777)], [[[1355.0, 186.0], [1439.0, 186.0], [1439.0, 212.0], [1355.0, 212.0]], ('XXXXXXX', 0.633026123046875)], [[[0.0, 211.0], [29.0, 211.0], [29.0, 237.0], [0.0, 237.0]], ('00', 0.9667556285858154)], [[[67.0, 212.0], [113.0, 212.0], [113.0, 236.0], [67.0, 236.0]], ('18:00', 0.9731119275093079)], [[[176.0, 212.0], [224.0, 212.0], [224.0, 236.0], [176.0, 236.0]], ('10.00', 0.9443759918212891)], [[[242.0, 212.0], [289.0, 212.0], [289.0, 236.0], [242.0, 236.0]], ('08:00', 0.9832140803337097)], [[[329.0, 212.0], [377.0, 212.0], [377.0, 236.0], [329.0, 236.0]], ('17:55', 0.9686030149459839)], [[[443.0, 211.0], [483.0, 207.0], [486.0, 233.0], [446.0, 238.0]], ('9.92', 0.9966481328010559)], [[[513.0, 212.0], [551.0, 212.0], [551.0, 237.0], [513.0, 237.0]], ('$1.2', 0.9968297481536865)], [[[612.0, 211.0], [651.0, 211.0], [651.0, 236.0], [612.0, 236.0]], ('$1.2', 0.8747267723083496)], [[[695.0, 211.0], [735.0, 211.0], [735.0, 236.0], [695.0, 236.0]], ('1.05', 0.9954233765602112)], [[[778.0, 212.0], [841.0, 212.0], [841.0, 234.0], [778.0, 234.0]], ('10.0000', 0.9968918561935425)], [[[876.0, 212.0], [931.0, 212.0], [931.0, 236.0], [876.0, 236.0]], ('11.111', 0.9944038391113281)], [[[1031.0, 217.0], [1057.0, 217.0], [1057.0, 239.0], [1031.0, 239.0]], ('....', 0.5947932600975037)], [[[1130.0, 218.0], [1155.0, 218.0], [1155.0, 239.0], [1130.0, 239.0]], ('...', 0.5126753449440002)], [[[1237.0, 216.0], [1268.0, 211.0], [1272.0, 236.0], [1242.0, 241.0]], ('.', 0.5104169249534607)], [[[1283.0, 211.0], [1331.0, 207.0], [1333.0, 232.0], [1285.0, 236.0]], ('4.440', 0.991268515586853)], [[[1355.0, 209.0], [1439.0, 209.0], [1439.0, 236.0], [1355.0, 236.0]], ('XXXXXXX', 0.5676232576370239)], [[[0.0, 237.0], [29.0, 237.0], [29.0, 264.0], [0.0, 264.0]], ('00', 0.9718832969665527)], [[[66.0, 237.0], [113.0, 237.0], [113.0, 262.0], [66.0, 262.0]], ('08:00', 0.9495775103569031)], [[[184.0, 237.0], [224.0, 237.0], [224.0, 262.0], [184.0, 262.0]], ('1.00', 0.9955176711082458)], [[[242.0, 237.0], [288.0, 237.0], [288.0, 262.0], [242.0, 262.0]], ('07:23', 0.9717330932617188)], [[[329.0, 237.0], [375.0, 237.0], [375.0, 262.0], [329.0, 262.0]], ('08:00', 0.9827958941459656)], [[[446.0, 237.0], [485.0, 237.0], [485.0, 262.0], [446.0, 262.0]], ('0.62', 0.9978816509246826)], [[[519.0, 237.0], [567.0, 237.0], [567.0, 262.0], [519.0, 262.0]], ('$0.12', 0.997947096824646)], [[[620.0, 237.0], [668.0, 237.0], [668.0, 262.0], [620.0, 262.0]], ('$0.12', 0.913504421710968)], [[[695.0, 236.0], [737.0, 236.0], [737.0, 264.0], [695.0, 264.0]], ('1.05', 0.994038462638855)], [[[784.0, 236.0], [842.0, 236.0], [842.0, 264.0], [784.0, 264.0]], ('1.0000', 0.9961993098258972)], [[[884.0, 237.0], [931.0, 237.0], [931.0, 262.0], [884.0, 262.0]], ('1.111', 0.9502199292182922)], [[[1029.0, 240.0], [1058.0, 240.0], [1058.0, 267.0], [1029.0, 267.0]], ('...', 0.5558885931968689)], [[[1292.0, 237.0], [1340.0, 237.0], [1340.0, 261.0], [1292.0, 261.0]], ('0.444', 0.9570555686950684)], [[[1355.0, 234.0], [1439.0, 234.0], [1439.0, 261.0], [1355.0, 261.0]], ('xXxxxXx', 0.5128093361854553)], [[[0.0, 262.0], [29.0, 262.0], [29.0, 289.0], [0.0, 289.0]], ('00', 0.7355748414993286)], [[[67.0, 262.0], [113.0, 262.0], [113.0, 287.0], [67.0, 287.0]], ('18:00', 0.9821047782897949)], [[[175.0, 262.0], [225.0, 262.0], [225.0, 289.0], [175.0, 289.0]], ('10.00', 0.9964873194694519)], [[[242.0, 262.0], [288.0, 262.0], [288.0, 287.0], [242.0, 287.0]], ('08:00', 0.977314829826355)], [[[329.0, 262.0], [375.0, 262.0], [375.0, 287.0], [329.0, 287.0]], ('17:51', 0.9700779914855957)], [[[446.0, 262.0], [485.0, 262.0], [485.0, 287.0], [446.0, 287.0]], ('9.85', 0.9967540502548218)], [[[513.0, 262.0], [551.0, 262.0], [551.0, 287.0], [513.0, 287.0]], ('$1.2', 0.99640953540802)], [[[612.0, 262.0], [651.0, 262.0], [651.0, 287.0], [612.0, 287.0]], ('$1.2', 0.9000812768936157)], [[[694.0, 259.0], [738.0, 259.0], [738.0, 289.0], [694.0, 289.0]], ('1.05', 0.9912763237953186)], [[[778.0, 262.0], [841.0, 262.0], [841.0, 285.0], [778.0, 285.0]], ('10.0000', 0.9935808181762695)], [[[876.0, 262.0], [931.0, 262.0], [931.0, 285.0], [876.0, 285.0]], ('11.111', 0.9017950892448425)], [[[1029.0, 265.0], [1058.0, 265.0], [1058.0, 292.0], [1029.0, 292.0]], ('..', 0.5220454931259155)], [[[1130.0, 268.0], [1155.0, 268.0], [1155.0, 290.0], [1130.0, 290.0]], ('..', 0.6164860725402832)], [[[1240.0, 265.0], [1271.0, 265.0], [1271.0, 290.0], [1240.0, 290.0]], ('.', 0.5711800456047058)], [[[1285.0, 262.0], [1332.0, 262.0], [1332.0, 285.0], [1285.0, 285.0]], ('4.440', 0.9937156438827515)], [[[0.0, 285.0], [29.0, 285.0], [29.0, 312.0], [0.0, 312.0]], ('00', 0.9165477752685547)], [[[67.0, 287.0], [113.0, 287.0], [113.0, 310.0], [67.0, 310.0]], ('08:00', 0.9640819430351257)], [[[184.0, 287.0], [224.0, 287.0], [224.0, 312.0], [184.0, 312.0]], ('1.00', 0.9932303428649902)], [[[242.0, 287.0], [288.0, 287.0], [288.0, 310.0], [242.0, 310.0]], ('07:19', 0.9227133989334106)], [[[329.0, 287.0], [375.0, 287.0], [375.0, 310.0], [329.0, 310.0]], ('08:00', 0.9641405940055847)], [[[446.0, 287.0], [485.0, 287.0], [485.0, 312.0], [446.0, 312.0]], ('0.68', 0.9952225685119629)], [[[519.0, 285.0], [567.0, 285.0], [567.0, 310.0], [519.0, 310.0]], ('$0.12', 0.9948574900627136)], [[[620.0, 285.0], [668.0, 285.0], [668.0, 310.0], [620.0, 310.0]], ('$0.12', 0.995655357837677)], [[[695.0, 285.0], [737.0, 285.0], [737.0, 310.0], [695.0, 310.0]], ('1.05', 0.9951202273368835)], [[[786.0, 287.0], [841.0, 287.0], [841.0, 310.0], [786.0, 310.0]], ('1.0000', 0.985302209854126)], [[[884.0, 287.0], [931.0, 287.0], [931.0, 310.0], [884.0, 310.0]], ('1.111', 0.9895437955856323)], [[[1029.0, 290.0], [1058.0, 290.0], [1058.0, 317.0], [1029.0, 317.0]], ('...', 0.5168473124504089)], [[[1292.0, 287.0], [1340.0, 287.0], [1340.0, 310.0], [1292.0, 310.0]], ('0.444', 0.9951009750366211)], [[[0.0, 312.0], [28.0, 312.0], [28.0, 339.0], [0.0, 339.0]], ('00', 0.9706133604049683)], [[[67.0, 312.0], [113.0, 312.0], [113.0, 337.0], [67.0, 337.0]], ('18:00', 0.9828001260757446)], [[[176.0, 312.0], [224.0, 312.0], [224.0, 335.0], [176.0, 335.0]], ('10.00', 0.9956920742988586)], [[[242.0, 312.0], [288.0, 312.0], [288.0, 335.0], [242.0, 335.0]], ('08:00', 0.9639043807983398)], [[[329.0, 312.0], [375.0, 312.0], [375.0, 337.0], [329.0, 337.0]], ('17:57', 0.9445635080337524)], [[[446.0, 312.0], [485.0, 312.0], [485.0, 337.0], [446.0, 337.0]], ('9.95', 0.9952715635299683)], [[[511.0, 312.0], [551.0, 312.0], [551.0, 337.0], [511.0, 337.0]], ('$1.2', 0.9956289529800415)], [[[612.0, 312.0], [651.0, 312.0], [651.0, 337.0], [612.0, 337.0]], ('$1.2', 0.9389342665672302)], [[[697.0, 310.0], [738.0, 310.0], [738.0, 339.0], [697.0, 339.0]], ('1.05', 0.991199791431427)], [[[778.0, 312.0], [841.0, 312.0], [841.0, 335.0], [778.0, 335.0]], ('10.0000', 0.9957074522972107)], [[[876.0, 312.0], [931.0, 312.0], [931.0, 335.0], [876.0, 335.0]], ('11.111', 0.9129496216773987)], [[[1029.0, 315.0], [1058.0, 315.0], [1058.0, 342.0], [1029.0, 342.0]], ('.', 0.6434523463249207)], [[[1238.0, 316.0], [1271.0, 311.0], [1275.0, 338.0], [1241.0, 343.0]], ('..', 0.5777192115783691)], [[[1285.0, 312.0], [1331.0, 312.0], [1331.0, 335.0], [1285.0, 335.0]], ('4.440', 0.9163775444030762)], [[[178.0, 367.0], [224.0, 367.0], [224.0, 392.0], [178.0, 392.0]], ('55.00', 0.9965947270393372)], [[[438.0, 367.0], [485.0, 367.0], [485.0, 392.0], [438.0, 392.0]], ('53.05', 0.9960927963256836)], [[[511.0, 365.0], [570.0, 365.0], [570.0, 393.0], [511.0, 393.0]], ('$12.11', 0.9931508898735046)], [[[603.0, 365.0], [660.0, 365.0], [660.0, 393.0], [603.0, 393.0]], ('$12.11', 0.9313635230064392)], [[[778.0, 364.0], [841.0, 364.0], [841.0, 385.0], [778.0, 385.0]], ('55.0000', 0.997981607913971)], [[[859.0, 364.0], [914.0, 364.0], [914.0, 385.0], [859.0, 385.0]], ('$0.123', 0.9964441657066345)], [[[966.0, 364.0], [1031.0, 364.0], [1031.0, 385.0], [966.0, 385.0]], ('$0.0000', 0.9989798665046692)], [[[1066.0, 364.0], [1129.0, 364.0], [1129.0, 385.0], [1066.0, 385.0]], ('$0.0000', 0.998505711555481)], [[[1181.0, 364.0], [1288.0, 364.0], [1288.0, 385.0], [1181.0, 385.0]], ('$0.0000$1.03', 0.9939969182014465)], [[[2.0, 421.0], [109.0, 421.0], [109.0, 448.0], [2.0, 448.0]], ('(CCS Week 2', 0.8887497186660767)], [[[0.0, 443.0], [29.0, 443.0], [29.0, 470.0], [0.0, 470.0]], ('00', 0.9668165445327759)], [[[66.0, 445.0], [113.0, 445.0], [113.0, 468.0], [66.0, 468.0]], ('08:00', 0.9731241464614868)], [[[184.0, 443.0], [224.0, 443.0], [224.0, 468.0], [184.0, 468.0]], ('1.00', 0.9922935962677002)], [[[242.0, 443.0], [288.0, 443.0], [288.0, 466.0], [242.0, 466.0]], ('07:04', 0.968039870262146)], [[[329.0, 443.0], [375.0, 443.0], [375.0, 466.0], [329.0, 466.0]], ('08:00', 0.9571396708488464)], [[[446.0, 443.0], [485.0, 443.0], [485.0, 468.0], [446.0, 468.0]], ('0.93', 0.9962500333786011)], [[[521.0, 443.0], [568.0, 443.0], [568.0, 468.0], [521.0, 468.0]], ('$1.05', 0.9293196797370911)], [[[620.0, 443.0], [668.0, 443.0], [668.0, 468.0], [620.0, 468.0]], ('$1.05', 0.996752142906189)], [[[697.0, 443.0], [750.0, 443.0], [750.0, 466.0], [697.0, 466.0]], ('1.0500', 0.996816098690033)], [[[784.0, 442.0], [842.0, 442.0], [842.0, 470.0], [784.0, 470.0]], ('1.0000', 0.9920479655265808)], [[[884.0, 443.0], [929.0, 443.0], [929.0, 468.0], [884.0, 468.0]], ('1.111', 0.9703464508056641)], [[[1029.0, 446.0], [1058.0, 446.0], [1058.0, 473.0], [1029.0, 473.0]], ('..', 0.5822553634643555)], [[[1130.0, 449.0], [1155.0, 449.0], [1155.0, 471.0], [1130.0, 471.0]], ('..', 0.5452948808670044)], [[[1292.0, 443.0], [1340.0, 443.0], [1340.0, 466.0], [1292.0, 466.0]], ('0.444', 0.9926350712776184)], [[[1358.0, 443.0], [1438.0, 443.0], [1438.0, 465.0], [1358.0, 465.0]], ('XXXXXXX', 0.7204893827438354)], [[[0.0, 466.0], [29.0, 466.0], [29.0, 493.0], [0.0, 493.0]], ('00', 0.9728990197181702)], [[[67.0, 468.0], [113.0, 468.0], [113.0, 491.0], [67.0, 491.0]], ('18:00', 0.9685419797897339)], [[[176.0, 468.0], [224.0, 468.0], [224.0, 491.0], [176.0, 491.0]], ('10.00', 0.9964615106582642)], [[[242.0, 468.0], [288.0, 468.0], [288.0, 491.0], [242.0, 491.0]], ('08:00', 0.9716693758964539)], [[[329.0, 468.0], [377.0, 468.0], [377.0, 491.0], [329.0, 491.0]], ('17:58', 0.9384583234786987)], [[[446.0, 466.0], [485.0, 466.0], [485.0, 491.0], [446.0, 491.0]], ('9.97', 0.9970017075538635)], [[[511.0, 465.0], [562.0, 465.0], [562.0, 495.0], [511.0, 495.0]], ('$5.85', 0.9975231885910034)], [[[612.0, 466.0], [658.0, 466.0], [658.0, 491.0], [612.0, 491.0]], ('$5.85', 0.9963852167129517)], [[[697.0, 468.0], [752.0, 468.0], [752.0, 491.0], [697.0, 491.0]], ('1.0500', 0.9970026612281799)], [[[778.0, 468.0], [841.0, 468.0], [841.0, 491.0], [778.0, 491.0]], ('10.0000', 0.9960646033287048)], [[[876.0, 468.0], [931.0, 468.0], [931.0, 491.0], [876.0, 491.0]], ('11.111', 0.9532577991485596)], [[[1031.0, 473.0], [1057.0, 473.0], [1057.0, 495.0], [1031.0, 495.0]], ('..', 0.6434911489486694)], [[[1129.0, 473.0], [1155.0, 473.0], [1155.0, 495.0], [1129.0, 495.0]], ('..', 0.5557570457458496)], [[[1240.0, 470.0], [1271.0, 470.0], [1271.0, 496.0], [1240.0, 496.0]], ('.', 0.5057724118232727)], [[[1283.0, 466.0], [1334.0, 466.0], [1334.0, 493.0], [1283.0, 493.0]], ('4.440', 0.9935493469238281)], [[[1357.0, 465.0], [1441.0, 465.0], [1441.0, 491.0], [1357.0, 491.0]], ('XXXXXXX', 0.5503665208816528)], [[[0.0, 491.0], [29.0, 491.0], [29.0, 518.0], [0.0, 518.0]], ('00', 0.9569224715232849)], [[[67.0, 493.0], [113.0, 493.0], [113.0, 516.0], [67.0, 516.0]], ('08:00', 0.9610936045646667)], [[[184.0, 493.0], [224.0, 493.0], [224.0, 516.0], [184.0, 516.0]], ('1.00', 0.9954777956008911)], [[[242.0, 493.0], [288.0, 493.0], [288.0, 516.0], [242.0, 516.0]], ('07:28', 0.9416717290878296)], [[[329.0, 493.0], [375.0, 493.0], [375.0, 516.0], [329.0, 516.0]], ('08:00', 0.964080810546875)], [[[446.0, 493.0], [485.0, 493.0], [485.0, 518.0], [446.0, 518.0]], ('0.53', 0.9964492917060852)], [[[521.0, 493.0], [568.0, 493.0], [568.0, 516.0], [521.0, 516.0]], ('$1.05', 0.996787428855896)], [[[620.0, 493.0], [668.0, 493.0], [668.0, 516.0], [620.0, 516.0]], ('$1.05', 0.9950534701347351)], [[[697.0, 493.0], [752.0, 493.0], [752.0, 516.0], [697.0, 516.0]], ('1.0500', 0.9956875443458557)], [[[786.0, 493.0], [841.0, 493.0], [841.0, 516.0], [786.0, 516.0]], ('1.0000', 0.982783854007721)], [[[884.0, 493.0], [931.0, 493.0], [931.0, 516.0], [884.0, 516.0]], ('1.111', 0.9902623891830444)], [[[1029.0, 495.0], [1058.0, 495.0], [1058.0, 521.0], [1029.0, 521.0]], ('..', 0.5741370916366577)], [[[1292.0, 493.0], [1340.0, 493.0], [1340.0, 516.0], [1292.0, 516.0]], ('0.444', 0.9957281947135925)], [[[1357.0, 491.0], [1441.0, 491.0], [1441.0, 518.0], [1357.0, 518.0]], ('XxxxxXX', 0.5076217651367188)], [[[2.0, 520.0], [28.0, 520.0], [28.0, 541.0], [2.0, 541.0]], ('00', 0.9835374355316162)], [[[67.0, 518.0], [113.0, 518.0], [113.0, 543.0], [67.0, 543.0]], ('18:00', 0.9835931658744812)], [[[176.0, 518.0], [224.0, 518.0], [224.0, 541.0], [176.0, 541.0]], ('10.00', 0.9958418607711792)], [[[242.0, 516.0], [289.0, 520.0], [286.0, 545.0], [240.0, 541.0]], ('08:00', 0.9796926379203796)], [[[329.0, 518.0], [375.0, 518.0], [375.0, 543.0], [329.0, 543.0]], ('18:02', 0.979208767414093)], [[[438.0, 518.0], [485.0, 518.0], [485.0, 543.0], [438.0, 543.0]], ('10.03', 0.9958062171936035)], [[[513.0, 518.0], [560.0, 518.0], [560.0, 543.0], [513.0, 543.0]], ('$5.85', 0.9962958097457886)], [[[612.0, 518.0], [660.0, 518.0], [660.0, 543.0], [612.0, 543.0]], ('$5.85', 0.9958471059799194)], [[[697.0, 518.0], [752.0, 518.0], [752.0, 541.0], [697.0, 541.0]], ('1.0500', 0.9963780045509338)], [[[778.0, 520.0], [841.0, 520.0], [841.0, 541.0], [778.0, 541.0]], ('10.0000', 0.9977850317955017)], [[[874.0, 513.0], [932.0, 517.0], [930.0, 545.0], [872.0, 541.0]], ('11.111', 0.9774494767189026)], [[[1129.0, 524.0], [1155.0, 524.0], [1155.0, 546.0], [1129.0, 546.0]], ('..', 0.5384880304336548)], [[[1285.0, 518.0], [1332.0, 518.0], [1332.0, 541.0], [1285.0, 541.0]], ('4.440', 0.9700013995170593)], [[[1358.0, 518.0], [1438.0, 518.0], [1438.0, 540.0], [1358.0, 540.0]], ('XXXXXXX', 0.7184457182884216)], [[[2.0, 544.0], [28.0, 544.0], [28.0, 566.0], [2.0, 566.0]], ('00', 0.9723864793777466)], [[[67.0, 543.0], [113.0, 543.0], [113.0, 568.0], [67.0, 568.0]], ('08:00', 0.9791760444641113)], [[[184.0, 543.0], [224.0, 543.0], [224.0, 568.0], [184.0, 568.0]], ('1.00', 0.9823360443115234)], [[[242.0, 543.0], [288.0, 543.0], [288.0, 568.0], [242.0, 568.0]], ('07:19', 0.9614404439926147)], [[[329.0, 543.0], [375.0, 543.0], [375.0, 568.0], [329.0, 568.0]], ('08:00', 0.9825555086135864)], [[[446.0, 543.0], [485.0, 543.0], [485.0, 568.0], [446.0, 568.0]], ('0.68', 0.994194507598877)], [[[519.0, 543.0], [570.0, 543.0], [570.0, 569.0], [519.0, 569.0]], ('$1.05', 0.9961941838264465)], [[[620.0, 543.0], [668.0, 543.0], [668.0, 568.0], [620.0, 568.0]], ('$1.05', 0.9972790479660034)], [[[695.0, 543.0], [750.0, 543.0], [750.0, 566.0], [695.0, 566.0]], ('1.0500', 0.9958097338676453)], [[[786.0, 544.0], [841.0, 544.0], [841.0, 568.0], [786.0, 568.0]], ('1.0000', 0.9925472140312195)], [[[884.0, 543.0], [929.0, 543.0], [929.0, 568.0], [884.0, 568.0]], ('1.111', 0.9500230550765991)], [[[1239.0, 548.0], [1271.0, 548.0], [1271.0, 573.0], [1239.0, 573.0]], ('.', 0.5315980315208435)], [[[1292.0, 543.0], [1341.0, 543.0], [1341.0, 566.0], [1292.0, 566.0]], ('0.444', 0.9952611923217773)], [[[1358.0, 543.0], [1438.0, 543.0], [1438.0, 565.0], [1358.0, 565.0]], ('XXXXXXX', 0.6593329310417175)], [[[0.0, 568.0], [29.0, 568.0], [29.0, 594.0], [0.0, 594.0]], ('00', 0.9611135721206665)], [[[67.0, 568.0], [113.0, 568.0], [113.0, 593.0], [67.0, 593.0]], ('18:00', 0.9829918146133423)], [[[174.0, 570.0], [222.0, 566.0], [224.0, 591.0], [176.0, 595.0]], ('10.00', 0.9944820404052734)], [[[242.0, 566.0], [289.0, 570.0], [286.0, 595.0], [240.0, 591.0]], ('08:00', 0.9821923971176147)], [[[329.0, 568.0], [375.0, 568.0], [375.0, 593.0], [329.0, 593.0]], ('18:01', 0.9814356565475464)], [[[438.0, 568.0], [484.0, 568.0], [484.0, 593.0], [438.0, 593.0]], ('10.02', 0.9971433877944946)], [[[513.0, 568.0], [560.0, 568.0], [560.0, 593.0], [513.0, 593.0]], ('$5.85', 0.9962630271911621)], [[[612.0, 568.0], [660.0, 568.0], [660.0, 593.0], [612.0, 593.0]], ('$5.85', 0.9963253140449524)], [[[697.0, 568.0], [752.0, 568.0], [752.0, 591.0], [697.0, 591.0]], ('1.0500', 0.9961509704589844)], [[[778.0, 569.0], [841.0, 569.0], [841.0, 591.0], [778.0, 591.0]], ('10.0000', 0.9968805909156799)], [[[876.0, 568.0], [931.0, 568.0], [931.0, 591.0], [876.0, 591.0]], ('11.111', 0.9390646815299988)], [[[1127.0, 573.0], [1156.0, 573.0], [1156.0, 599.0], [1127.0, 599.0]], ('.', 0.5234905481338501)], [[[1240.0, 573.0], [1271.0, 573.0], [1271.0, 598.0], [1240.0, 598.0]], ('..', 0.5527887940406799)], [[[1285.0, 568.0], [1332.0, 568.0], [1332.0, 593.0], [1285.0, 593.0]], ('4.440', 0.9972975850105286)], [[[1358.0, 569.0], [1438.0, 569.0], [1438.0, 591.0], [1358.0, 591.0]], ('XXXXXXX', 0.6751100420951843)], [[[0.0, 593.0], [29.0, 593.0], [29.0, 619.0], [0.0, 619.0]], ('00', 0.9734942317008972)], [[[67.0, 593.0], [113.0, 593.0], [113.0, 618.0], [67.0, 618.0]], ('08:00', 0.9831412434577942)], [[[184.0, 593.0], [225.0, 593.0], [225.0, 618.0], [184.0, 618.0]], ('1.00', 0.9930816888809204)], [[[242.0, 593.0], [286.0, 593.0], [286.0, 618.0], [242.0, 618.0]], ('07:21', 0.9663808941841125)], [[[329.0, 594.0], [375.0, 594.0], [375.0, 618.0], [329.0, 618.0]], ('08:00', 0.979039192199707)], [[[446.0, 593.0], [485.0, 593.0], [485.0, 618.0], [446.0, 618.0]], ('0.65', 0.9947385787963867)], [[[519.0, 593.0], [570.0, 593.0], [570.0, 619.0], [519.0, 619.0]], ('$1.05', 0.9966329336166382)], [[[620.0, 593.0], [668.0, 593.0], [668.0, 618.0], [620.0, 618.0]], ('$1.05', 0.9974544644355774)], [[[693.0, 595.0], [751.0, 591.0], [752.0, 616.0], [695.0, 620.0]], ('1.0500', 0.9957666397094727)], [[[786.0, 594.0], [841.0, 594.0], [841.0, 618.0], [786.0, 618.0]], ('1.0000', 0.9953281283378601)], [[[884.0, 591.0], [932.0, 595.0], [929.0, 620.0], [881.0, 616.0]], ('1.111', 0.9871268272399902)], [[[1240.0, 598.0], [1271.0, 598.0], [1271.0, 622.0], [1240.0, 622.0]], ('..', 0.6095119714736938)], [[[1290.0, 593.0], [1340.0, 589.0], [1342.0, 614.0], [1292.0, 618.0]], ('0.444', 0.9914981722831726)], [[[1357.0, 594.0], [1438.0, 594.0], [1438.0, 616.0], [1357.0, 616.0]], ('XXXXXXX', 0.714029848575592)], [[[0.0, 618.0], [29.0, 618.0], [29.0, 644.0], [0.0, 644.0]], ('00', 0.9487382173538208)], [[[67.0, 619.0], [113.0, 619.0], [113.0, 643.0], [67.0, 643.0]], ('18:00', 0.9652597308158875)], [[[176.0, 619.0], [224.0, 619.0], [224.0, 643.0], [176.0, 643.0]], ('10.00', 0.9930083155632019)], [[[242.0, 619.0], [288.0, 619.0], [288.0, 643.0], [242.0, 643.0]], ('08:00', 0.9744150042533875)], [[[329.0, 619.0], [375.0, 619.0], [375.0, 643.0], [329.0, 643.0]], ('18:01', 0.9568296670913696)], [[[438.0, 619.0], [485.0, 619.0], [485.0, 643.0], [438.0, 643.0]], ('10.02', 0.9959157705307007)], [[[511.0, 619.0], [560.0, 619.0], [560.0, 643.0], [511.0, 643.0]], ('$5.85', 0.9969509243965149)], [[[611.0, 619.0], [660.0, 619.0], [660.0, 643.0], [611.0, 643.0]], ('$5.85', 0.9943978190422058)], [[[695.0, 619.0], [752.0, 619.0], [752.0, 643.0], [695.0, 643.0]], ('1.0500', 0.9956573843955994)], [[[778.0, 619.0], [841.0, 619.0], [841.0, 643.0], [778.0, 643.0]], ('10.0000', 0.974225640296936)], [[[876.0, 619.0], [931.0, 619.0], [931.0, 643.0], [876.0, 643.0]], ('11.111', 0.9776783585548401)], [[[1029.0, 621.0], [1058.0, 621.0], [1058.0, 647.0], [1029.0, 647.0]], ('..', 0.5928531885147095)], [[[1130.0, 624.0], [1155.0, 624.0], [1155.0, 646.0], [1130.0, 646.0]], ('..', 0.6535436511039734)], [[[1242.0, 624.0], [1269.0, 624.0], [1269.0, 644.0], [1242.0, 644.0]], ('....', 0.6911544799804688)], [[[1283.0, 619.0], [1332.0, 619.0], [1332.0, 643.0], [1283.0, 643.0]], ('4.440', 0.99327152967453)], [[[1357.0, 619.0], [1438.0, 619.0], [1438.0, 641.0], [1357.0, 641.0]], ('XXXXXXX', 0.7120164036750793)]]\n"
          ]
        }
      ]
    },
    {
      "cell_type": "code",
      "source": [
        "boxes = [line[0] for line in output]\n",
        "texts = [line[1][0] for line in output]\n",
        "probabilities = [line[1][1] for line in output]"
      ],
      "metadata": {
        "id": "nNMBAQ78LDgG"
      },
      "execution_count": null,
      "outputs": []
    },
    {
      "cell_type": "code",
      "source": [
        "image_boxes = image_cv.copy()\n"
      ],
      "metadata": {
        "id": "uukcg4SWV_dg"
      },
      "execution_count": null,
      "outputs": []
    },
    {
      "cell_type": "code",
      "source": [
        "for box,text in zip(boxes,texts):\n",
        "  cv2.rectangle(image_boxes, (int(box[0][0]),int(box[0][1])), (int(box[2][0]),int(box[2][1])),(0,0,255),1)\n",
        "  cv2.putText(image_boxes, text,(int(box[0][0]),int(box[0][1])),cv2.FONT_HERSHEY_SIMPLEX,1,(222,0,0),1)"
      ],
      "metadata": {
        "id": "l_HzbiA7V_fw"
      },
      "execution_count": null,
      "outputs": []
    },
    {
      "cell_type": "code",
      "source": [
        "cv2.imwrite('detections.jpg', image_boxes)"
      ],
      "metadata": {
        "colab": {
          "base_uri": "https://localhost:8080/"
        },
        "id": "PfUG9mcgV_iJ",
        "outputId": "82eba487-d2aa-4210-f89b-c6455545c08b"
      },
      "execution_count": null,
      "outputs": [
        {
          "output_type": "execute_result",
          "data": {
            "text/plain": [
              "True"
            ]
          },
          "metadata": {},
          "execution_count": 13
        }
      ]
    },
    {
      "cell_type": "markdown",
      "metadata": {
        "id": "kYWt0lzDHZNp"
      },
      "source": [
        "# Reconstruction"
      ]
    },
    {
      "cell_type": "markdown",
      "source": [
        "## Get Horizontal and Vertical Lines"
      ],
      "metadata": {
        "id": "ruzifYJz4H6y"
      }
    },
    {
      "cell_type": "code",
      "source": [
        "im = image_cv.copy()"
      ],
      "metadata": {
        "id": "YLIoKedcqby_"
      },
      "execution_count": null,
      "outputs": []
    },
    {
      "cell_type": "code",
      "source": [
        "horiz_boxes = []\n",
        "vert_boxes = []\n",
        "\n",
        "for box in boxes:\n",
        "  x_h, x_v = 0,int(box[0][0])\n",
        "  y_h, y_v = int(box[0][1]),0\n",
        "  width_h,width_v = image_width, int(box[2][0]-box[0][0])\n",
        "  height_h,height_v = int(box[2][1]-box[0][1]),image_height\n",
        "\n",
        "  horiz_boxes.append([x_h,y_h,x_h+width_h,y_h+height_h])\n",
        "  vert_boxes.append([x_v,y_v,x_v+width_v,y_v+height_v])\n",
        "\n",
        "  cv2.rectangle(im,(x_h,y_h), (x_h+width_h,y_h+height_h),(0,0,255),1)\n",
        "  cv2.rectangle(im,(x_v,y_v), (x_v+width_v,y_v+height_v),(0,255,0),1)\n"
      ],
      "metadata": {
        "id": "GwcAAe-wccnF"
      },
      "execution_count": null,
      "outputs": []
    },
    {
      "cell_type": "code",
      "source": [
        "cv2.imwrite('horiz_vert.jpg',im)"
      ],
      "metadata": {
        "colab": {
          "base_uri": "https://localhost:8080/"
        },
        "id": "7UxFGhMkccph",
        "outputId": "7b09cc88-c9e7-44a0-fd97-9027cb06f243"
      },
      "execution_count": null,
      "outputs": [
        {
          "output_type": "execute_result",
          "data": {
            "text/plain": [
              "True"
            ]
          },
          "metadata": {},
          "execution_count": 16
        }
      ]
    },
    {
      "cell_type": "markdown",
      "source": [
        "## Non-Max Suppression"
      ],
      "metadata": {
        "id": "ekVFvJrM4ROL"
      }
    },
    {
      "cell_type": "code",
      "source": [
        "import tensorflow as tf\n",
        "import numpy as np\n",
        "import pandas as pd"
      ],
      "metadata": {
        "id": "JsHi65udGdP_"
      },
      "execution_count": null,
      "outputs": []
    },
    {
      "cell_type": "code",
      "source": [
        "horiz_out = tf.image.non_max_suppression(\n",
        "    horiz_boxes,\n",
        "    probabilities,\n",
        "    max_output_size = 1000,\n",
        "    iou_threshold=0.1,\n",
        "    score_threshold=float('-inf'),\n",
        "    name=None\n",
        ")"
      ],
      "metadata": {
        "id": "4LVSSB2fcoe7"
      },
      "execution_count": null,
      "outputs": []
    },
    {
      "cell_type": "code",
      "source": [
        "horiz_lines = np.sort(np.array(horiz_out))\n",
        "print(horiz_lines)"
      ],
      "metadata": {
        "colab": {
          "base_uri": "https://localhost:8080/"
        },
        "id": "pOboYpGnccr2",
        "outputId": "d1437851-622d-461a-e6d6-05973dfcb308"
      },
      "execution_count": null,
      "outputs": [
        {
          "output_type": "stream",
          "name": "stdout",
          "text": [
            "[  4  10  33  46  60  74  90 108 121 134 151 166 177 189 202 218 235 247\n",
            " 267 276 289]\n"
          ]
        }
      ]
    },
    {
      "cell_type": "code",
      "source": [
        "im_nms = image_cv.copy()"
      ],
      "metadata": {
        "id": "pfxHrn3iccyK"
      },
      "execution_count": null,
      "outputs": []
    },
    {
      "cell_type": "code",
      "source": [
        "for val in horiz_lines:\n",
        "  cv2.rectangle(im_nms, (int(horiz_boxes[val][0]),int(horiz_boxes[val][1])), (int(horiz_boxes[val][2]),int(horiz_boxes[val][3])),(0,0,255),1)\n"
      ],
      "metadata": {
        "id": "68PCHfmZcc0L"
      },
      "execution_count": null,
      "outputs": []
    },
    {
      "cell_type": "code",
      "source": [
        "cv2.imwrite('im_nms.jpg',im_nms)"
      ],
      "metadata": {
        "colab": {
          "base_uri": "https://localhost:8080/"
        },
        "id": "Z8r9qpiAcc2X",
        "outputId": "4d8ae271-a761-4550-99ce-2b119ef06266"
      },
      "execution_count": null,
      "outputs": [
        {
          "output_type": "execute_result",
          "data": {
            "text/plain": [
              "True"
            ]
          },
          "metadata": {},
          "execution_count": 26
        }
      ]
    },
    {
      "cell_type": "code",
      "source": [
        "vert_out = tf.image.non_max_suppression(\n",
        "    vert_boxes,\n",
        "    probabilities,\n",
        "    max_output_size = 1000,\n",
        "    iou_threshold=0.1,\n",
        "    score_threshold=float('-inf'),\n",
        "    name=None\n",
        ")"
      ],
      "metadata": {
        "id": "mKgPuh7rcc4s"
      },
      "execution_count": null,
      "outputs": []
    },
    {
      "cell_type": "code",
      "source": [
        "print(vert_out)"
      ],
      "metadata": {
        "colab": {
          "base_uri": "https://localhost:8080/"
        },
        "id": "GBpKsImVcc6p",
        "outputId": "23f9c836-f2e9-4d44-c146-ad87ba957cf7"
      },
      "execution_count": null,
      "outputs": [
        {
          "output_type": "stream",
          "name": "stdout",
          "text": [
            "tf.Tensor([177   4 178   0  11  60 175   8 120 276 176   1 179 226 102  24  51 295], shape=(18,), dtype=int32)\n"
          ]
        }
      ]
    },
    {
      "cell_type": "code",
      "source": [
        "vert_lines = np.sort(np.array(vert_out))\n",
        "print(vert_lines)"
      ],
      "metadata": {
        "colab": {
          "base_uri": "https://localhost:8080/"
        },
        "id": "K0lBh-yz5YLp",
        "outputId": "521f2a61-48a1-41be-94ec-e4329c2d3a5a"
      },
      "execution_count": null,
      "outputs": [
        {
          "output_type": "stream",
          "name": "stdout",
          "text": [
            "[  0   1   4   8  11  24  51  60 102 120 175 176 177 178 179 226 276 295]\n"
          ]
        }
      ]
    },
    {
      "cell_type": "code",
      "source": [
        "for val in vert_lines:\n",
        "  cv2.rectangle(im_nms, (int(vert_boxes[val][0]),int(vert_boxes[val][1])), (int(vert_boxes[val][2]),int(vert_boxes[val][3])),(255,0,0),1)\n"
      ],
      "metadata": {
        "id": "WqsLm0L_cc84"
      },
      "execution_count": null,
      "outputs": []
    },
    {
      "cell_type": "code",
      "source": [
        "cv2.imwrite('im_nms.jpg',im_nms)"
      ],
      "metadata": {
        "colab": {
          "base_uri": "https://localhost:8080/"
        },
        "id": "xZOEa7lpcdGM",
        "outputId": "96ca08bc-0ff5-441e-b276-8de1697a359b"
      },
      "execution_count": null,
      "outputs": [
        {
          "output_type": "execute_result",
          "data": {
            "text/plain": [
              "True"
            ]
          },
          "metadata": {},
          "execution_count": 31
        }
      ]
    },
    {
      "cell_type": "markdown",
      "source": [
        "## Convert to CSV"
      ],
      "metadata": {
        "id": "116eBUrO93-i"
      }
    },
    {
      "cell_type": "code",
      "source": [
        "\n",
        "\n",
        "out_array = [[\"\" for i in range(len(vert_lines))] for j in range(len(horiz_lines))]\n",
        "print(np.array(out_array).shape)\n",
        "print(out_array)"
      ],
      "metadata": {
        "colab": {
          "base_uri": "https://localhost:8080/"
        },
        "id": "HRQzwVUTcdIq",
        "outputId": "f031fb68-142b-47f7-9079-600a8cc3a0ed"
      },
      "execution_count": null,
      "outputs": [
        {
          "output_type": "stream",
          "name": "stdout",
          "text": [
            "(21, 18)\n",
            "[['', '', '', '', '', '', '', '', '', '', '', '', '', '', '', '', '', ''], ['', '', '', '', '', '', '', '', '', '', '', '', '', '', '', '', '', ''], ['', '', '', '', '', '', '', '', '', '', '', '', '', '', '', '', '', ''], ['', '', '', '', '', '', '', '', '', '', '', '', '', '', '', '', '', ''], ['', '', '', '', '', '', '', '', '', '', '', '', '', '', '', '', '', ''], ['', '', '', '', '', '', '', '', '', '', '', '', '', '', '', '', '', ''], ['', '', '', '', '', '', '', '', '', '', '', '', '', '', '', '', '', ''], ['', '', '', '', '', '', '', '', '', '', '', '', '', '', '', '', '', ''], ['', '', '', '', '', '', '', '', '', '', '', '', '', '', '', '', '', ''], ['', '', '', '', '', '', '', '', '', '', '', '', '', '', '', '', '', ''], ['', '', '', '', '', '', '', '', '', '', '', '', '', '', '', '', '', ''], ['', '', '', '', '', '', '', '', '', '', '', '', '', '', '', '', '', ''], ['', '', '', '', '', '', '', '', '', '', '', '', '', '', '', '', '', ''], ['', '', '', '', '', '', '', '', '', '', '', '', '', '', '', '', '', ''], ['', '', '', '', '', '', '', '', '', '', '', '', '', '', '', '', '', ''], ['', '', '', '', '', '', '', '', '', '', '', '', '', '', '', '', '', ''], ['', '', '', '', '', '', '', '', '', '', '', '', '', '', '', '', '', ''], ['', '', '', '', '', '', '', '', '', '', '', '', '', '', '', '', '', ''], ['', '', '', '', '', '', '', '', '', '', '', '', '', '', '', '', '', ''], ['', '', '', '', '', '', '', '', '', '', '', '', '', '', '', '', '', ''], ['', '', '', '', '', '', '', '', '', '', '', '', '', '', '', '', '', '']]\n"
          ]
        }
      ]
    },
    {
      "cell_type": "code",
      "source": [
        "\n",
        "unordered_boxes = []\n",
        "\n",
        "for i in vert_lines:\n",
        "  print(vert_boxes[i])\n",
        "  unordered_boxes.append(vert_boxes[i][0])"
      ],
      "metadata": {
        "colab": {
          "base_uri": "https://localhost:8080/"
        },
        "id": "sSrupaRZIAk_",
        "outputId": "a6327c3f-9fd5-43b2-d5b8-9603c0bd445f"
      },
      "execution_count": null,
      "outputs": [
        {
          "output_type": "stream",
          "name": "stdout",
          "text": [
            "[55, 0, 121, 649]\n",
            "[306, 0, 395, 649]\n",
            "[686, 0, 743, 649]\n",
            "[1277, 0, 1335, 649]\n",
            "[150, 0, 201, 649]\n",
            "[1358, 0, 1450, 649]\n",
            "[1029, 0, 1058, 649]\n",
            "[521, 0, 567, 649]\n",
            "[242, 0, 289, 649]\n",
            "[446, 0, 485, 649]\n",
            "[778, 0, 841, 649]\n",
            "[859, 0, 914, 649]\n",
            "[966, 0, 1031, 649]\n",
            "[1066, 0, 1129, 649]\n",
            "[1181, 0, 1288, 649]\n",
            "[2, 0, 28, 649]\n",
            "[620, 0, 668, 649]\n",
            "[1130, 0, 1155, 649]\n"
          ]
        }
      ]
    },
    {
      "cell_type": "code",
      "source": [
        "ordered_boxes = np.argsort(unordered_boxes)\n",
        "print(ordered_boxes)"
      ],
      "metadata": {
        "colab": {
          "base_uri": "https://localhost:8080/"
        },
        "id": "lRMlVNh_HuJV",
        "outputId": "84ab07e1-b639-4d92-dc61-08ccbefc3551"
      },
      "execution_count": null,
      "outputs": [
        {
          "output_type": "stream",
          "name": "stdout",
          "text": [
            "[15  0  4  8  1  9  7 16  2 10 11 12  6 13 17 14  3  5]\n"
          ]
        }
      ]
    },
    {
      "cell_type": "code",
      "source": [
        "def intersection(box_1, box_2):\n",
        "  return [box_2[0], box_1[1],box_2[2], box_1[3]]"
      ],
      "metadata": {
        "id": "AHHaxKUuC6jQ"
      },
      "execution_count": null,
      "outputs": []
    },
    {
      "cell_type": "code",
      "source": [
        "def iou(box_1, box_2):\n",
        "\n",
        "  x_1 = max(box_1[0], box_2[0])\n",
        "  y_1 = max(box_1[1], box_2[1])\n",
        "  x_2 = min(box_1[2], box_2[2])\n",
        "  y_2 = min(box_1[3], box_2[3])\n",
        "\n",
        "  inter = abs(max((x_2 - x_1, 0)) * max((y_2 - y_1), 0))\n",
        "  if inter == 0:\n",
        "      return 0\n",
        "\n",
        "  box_1_area = abs((box_1[2] - box_1[0]) * (box_1[3] - box_1[1]))\n",
        "  box_2_area = abs((box_2[2] - box_2[0]) * (box_2[3] - box_2[1]))\n",
        "\n",
        "  return inter / float(box_1_area + box_2_area - inter)"
      ],
      "metadata": {
        "id": "fDVb0DkxJSIf"
      },
      "execution_count": null,
      "outputs": []
    },
    {
      "cell_type": "code",
      "source": [
        "for i in range(len(horiz_lines)):\n",
        "  for j in range(len(vert_lines)):\n",
        "    resultant = intersection(horiz_boxes[horiz_lines[i]], vert_boxes[vert_lines[ordered_boxes[j]]] )\n",
        "\n",
        "    for b in range(len(boxes)):\n",
        "      the_box = [boxes[b][0][0],boxes[b][0][1],boxes[b][2][0],boxes[b][2][1]]\n",
        "      if(iou(resultant,the_box)>0.1):\n",
        "        out_array[i][j] = texts[b]"
      ],
      "metadata": {
        "id": "LWGhCwg6BIoL"
      },
      "execution_count": null,
      "outputs": []
    },
    {
      "cell_type": "code",
      "source": [
        "out_array=np.array(out_array)"
      ],
      "metadata": {
        "id": "c4tEY9LGNIM9"
      },
      "execution_count": null,
      "outputs": []
    },
    {
      "cell_type": "code",
      "source": [
        "out_array"
      ],
      "metadata": {
        "id": "_ekto4-Ymxv2",
        "outputId": "c57d77e4-d6d1-4b44-fad7-363a2abad10b",
        "colab": {
          "base_uri": "https://localhost:8080/"
        }
      },
      "execution_count": null,
      "outputs": [
        {
          "output_type": "execute_result",
          "data": {
            "text/plain": [
              "array([['', 'Session', '', '', 'Attendance', '', 'Fee before',\n",
              "        'Total Fee', 'Hourly', 'Hours', 'Fee Reduction to Service',\n",
              "        'Fee Reduction to Service', '', 'Fee Reduction to Guardian', '',\n",
              "        'Fee Reduction to Guardian', 'Payment', ''],\n",
              "       ['irt', 'End', 'Hours', 'Sign In', 'Sign Out', 'Hours',\n",
              "        'Discounts', 'for CCS', 'Fee', 'Hours', 'CCS', 'ACCS', '', 'CCS',\n",
              "        '', 'Payment', 'Payment', 'Educator ld'],\n",
              "       ['00', '08:00', '1.00', '07:06', '08:00', '0.90', '$0.12',\n",
              "        '$0.12', '1.05', '1.0000', '1.111', '', '...', '', '', '',\n",
              "        '0.444', 'XXXXXXXX'],\n",
              "       ['00', '18:00', '10.00', '08:00', '17:47', '9.78', '$1.2', '$1.2',\n",
              "        '1.05', '10.0000', '11.111', '', '...', '', '', '', '4.440',\n",
              "        'XXXXXXXX'],\n",
              "       ['00', '08:00', '1.00', '07:18', '08:00', '0.70', '$0.12',\n",
              "        '$0.12', '1.05', '1.0000', '1.111', '', '...', '', '', '.',\n",
              "        '0.444', 'XXXXXXX'],\n",
              "       ['00', '18:00', '10.00', '08:00', '17:52', '9.87', '$1.2', '$1.2',\n",
              "        '1.05', '10.0000', '11.111', '', '...', '', '.', '', '4.440',\n",
              "        'XXXXXXX'],\n",
              "       ['00', '08:00', '1.00', '07:13', '08:00', '0.78', '$0.12',\n",
              "        '$0.12', '1.05', '1.0000', '1.111', '', '...', '', '..', '',\n",
              "        '0.444', 'XXXXXXX'],\n",
              "       ['00', '18:00', '10.00', '08:00', '17:55', '9.92', '$1.2', '$1.2',\n",
              "        '1.05', '10.0000', '11.111', '', '....', '', '...', '.', '4.440',\n",
              "        'XXXXXXX'],\n",
              "       ['00', '08:00', '1.00', '07:23', '08:00', '0.62', '$0.12',\n",
              "        '$0.12', '1.05', '1.0000', '1.111', '', '...', '', '', '',\n",
              "        '0.444', 'xXxxxXx'],\n",
              "       ['00', '18:00', '10.00', '08:00', '17:51', '9.85', '$1.2', '$1.2',\n",
              "        '1.05', '10.0000', '11.111', '', '..', '', '..', '.', '4.440',\n",
              "        ''],\n",
              "       ['00', '08:00', '1.00', '07:19', '08:00', '0.68', '$0.12',\n",
              "        '$0.12', '1.05', '1.0000', '1.111', '', '...', '', '..', '',\n",
              "        '0.444', ''],\n",
              "       ['00', '18:00', '10.00', '08:00', '17:57', '9.95', '$1.2', '$1.2',\n",
              "        '1.05', '10.0000', '11.111', '', '.', '', '', '..', '4.440', ''],\n",
              "       ['', '', '55.00', '', '', '53.05', '$12.11', '$12.11', '',\n",
              "        '55.0000', '$0.123', '$0.0000', '', '$0.0000', '',\n",
              "        '$0.0000$1.03', '', ''],\n",
              "       ['00', '08:00', '1.00', '07:04', '08:00', '0.93', '$1.05',\n",
              "        '$1.05', '1.0500', '1.0000', '1.111', '', '..', '', '..', '',\n",
              "        '0.444', 'XXXXXXX'],\n",
              "       ['00', '18:00', '10.00', '08:00', '17:58', '9.97', '$5.85',\n",
              "        '$5.85', '1.0500', '10.0000', '11.111', '', '..', '', '..', '.',\n",
              "        '4.440', 'XXXXXXX'],\n",
              "       ['00', '08:00', '1.00', '07:28', '08:00', '0.53', '$1.05',\n",
              "        '$1.05', '1.0500', '1.0000', '1.111', '', '..', '', '', '',\n",
              "        '0.444', 'XxxxxXX'],\n",
              "       ['00', '18:00', '10.00', '08:00', '18:02', '10.03', '$5.85',\n",
              "        '$5.85', '1.0500', '10.0000', '11.111', '', '', '', '..', '',\n",
              "        '4.440', 'XXXXXXX'],\n",
              "       ['00', '08:00', '1.00', '07:19', '08:00', '0.68', '$1.05',\n",
              "        '$1.05', '1.0500', '1.0000', '1.111', '', '', '', '', '.',\n",
              "        '0.444', 'XXXXXXX'],\n",
              "       ['00', '18:00', '10.00', '08:00', '18:01', '10.02', '$5.85',\n",
              "        '$5.85', '1.0500', '10.0000', '11.111', '', '', '', '.', '..',\n",
              "        '4.440', 'XXXXXXX'],\n",
              "       ['00', '08:00', '1.00', '07:21', '08:00', '0.65', '$1.05',\n",
              "        '$1.05', '1.0500', '1.0000', '1.111', '', '', '', '.', '..',\n",
              "        '0.444', 'XXXXXXX'],\n",
              "       ['00', '18:00', '10.00', '08:00', '18:01', '10.02', '$5.85',\n",
              "        '$5.85', '1.0500', '10.0000', '11.111', '', '..', '', '..',\n",
              "        '....', '4.440', 'XXXXXXX']], dtype='<U25')"
            ]
          },
          "metadata": {},
          "execution_count": 39
        }
      ]
    },
    {
      "cell_type": "code",
      "source": [
        "pd.DataFrame(out_array).to_csv('sample.csv')"
      ],
      "metadata": {
        "id": "D8UdX80wBI9V"
      },
      "execution_count": null,
      "outputs": []
    },
    {
      "cell_type": "markdown",
      "source": [
        "## Merging Cells"
      ],
      "metadata": {
        "id": "E693Ela3qhLx"
      }
    },
    {
      "cell_type": "code",
      "source": [
        "current_bank=['']*len(out_array[0,:])\n",
        "print(current_bank)"
      ],
      "metadata": {
        "colab": {
          "base_uri": "https://localhost:8080/"
        },
        "id": "XNcX7fEWPDfw",
        "outputId": "06cb1313-e8b8-4252-d305-f03fc03d14ed"
      },
      "execution_count": null,
      "outputs": [
        {
          "output_type": "stream",
          "name": "stdout",
          "text": [
            "['', '', '', '', '', '', '']\n"
          ]
        }
      ]
    },
    {
      "cell_type": "code",
      "source": [
        "def empty(arr):\n",
        "  for i in arr:\n",
        "    if i=='':\n",
        "      return True\n",
        "  return False"
      ],
      "metadata": {
        "id": "TTF5ojcCQJKR"
      },
      "execution_count": null,
      "outputs": []
    },
    {
      "cell_type": "code",
      "source": [
        "cleaned_array=[]"
      ],
      "metadata": {
        "id": "3w1amnEXSVSB"
      },
      "execution_count": null,
      "outputs": []
    },
    {
      "cell_type": "code",
      "source": [
        "for i in range(len(out_array)):\n",
        "  if not empty(out_array[i]):\n",
        "    current_bank=[out_array[i][j] for j in range(len(out_array[i]))]\n",
        "    cleaned_array.append(current_bank)\n",
        "    not_empty=True\n",
        "  else:\n",
        "    for j in range(len(out_array[i])):\n",
        "      current_bank[j]+=' '+out_array[i][j]\n",
        "    print('-->',current_bank)\n",
        "cleaned_array=np.array(cleaned_array)\n",
        "print(cleaned_array)"
      ],
      "metadata": {
        "id": "W_q9e2EkPepQ",
        "colab": {
          "base_uri": "https://localhost:8080/"
        },
        "outputId": "fba25f38-1e56-45c3-88fe-2211d38d4dca"
      },
      "execution_count": null,
      "outputs": [
        {
          "output_type": "stream",
          "name": "stdout",
          "text": [
            "[['Model' 'Updates (105)' 'Epochs' 'Hours' 'GPU' 'Train NLL' 'Dev.NLL']\n",
            " ['RNNenc-30' '8.46' '6.4' '109' 'TITAN BLACK' '28.1' '53.0']\n",
            " ['RNNenc-50' '6.00' '4.5' '108' 'Quadro K-6000' '44.0' '43.6']\n",
            " ['RNNsearch-30' '4.71' '3.6' '113' 'TITAN BLACK' '26.7' '47.2']\n",
            " ['RNNsearch-50' '2.88' '2.2' '111' 'Quadro K-6000' '40.7' '38.1']\n",
            " ['RNNsearch-50*' '6.67' '5.0' '252' 'Quadro K-6000' '36.7' '35.2']]\n"
          ]
        }
      ]
    },
    {
      "cell_type": "code",
      "source": [
        "pd.DataFrame(cleaned_array).to_csv('cleaned.csv')"
      ],
      "metadata": {
        "id": "RZltyMmD_E68"
      },
      "execution_count": null,
      "outputs": []
    },
    {
      "cell_type": "markdown",
      "source": [
        "# Convert to OWL Format"
      ],
      "metadata": {
        "id": "M9rH5mX9Mx7g"
      }
    },
    {
      "cell_type": "markdown",
      "source": [
        "# **CSV to Text**"
      ],
      "metadata": {
        "id": "SqFdbM634H5w"
      }
    },
    {
      "cell_type": "code",
      "source": [
        "import  jpype\n",
        "import  asposecells\n",
        "\n",
        "\n",
        "jpype.startJVM()\n",
        "from asposecells.api import Workbook\n",
        "\n",
        "workbook = Workbook(\"/content/sample.csv\")\n",
        "workbook.save(\"Output.docx\")\n",
        "jpype.shutdownJVM()"
      ],
      "metadata": {
        "id": "949GB9T1_Go7",
        "colab": {
          "base_uri": "https://localhost:8080/",
          "height": 373
        },
        "outputId": "d3bf9a55-8248-459c-8eb6-c2c67e5a84b3"
      },
      "execution_count": null,
      "outputs": [
        {
          "output_type": "error",
          "ename": "ModuleNotFoundError",
          "evalue": "ignored",
          "traceback": [
            "\u001b[0;31m---------------------------------------------------------------------------\u001b[0m",
            "\u001b[0;31mModuleNotFoundError\u001b[0m                       Traceback (most recent call last)",
            "\u001b[0;32m<ipython-input-52-0cc478de6e7d>\u001b[0m in \u001b[0;36m<module>\u001b[0;34m\u001b[0m\n\u001b[0;32m----> 1\u001b[0;31m \u001b[0;32mimport\u001b[0m  \u001b[0mjpype\u001b[0m\u001b[0;34m\u001b[0m\u001b[0;34m\u001b[0m\u001b[0m\n\u001b[0m\u001b[1;32m      2\u001b[0m \u001b[0;32mimport\u001b[0m  \u001b[0masposecells\u001b[0m\u001b[0;34m\u001b[0m\u001b[0;34m\u001b[0m\u001b[0m\n\u001b[1;32m      3\u001b[0m \u001b[0;34m\u001b[0m\u001b[0m\n\u001b[1;32m      4\u001b[0m \u001b[0;34m\u001b[0m\u001b[0m\n\u001b[1;32m      5\u001b[0m \u001b[0mjpype\u001b[0m\u001b[0;34m.\u001b[0m\u001b[0mstartJVM\u001b[0m\u001b[0;34m(\u001b[0m\u001b[0;34m)\u001b[0m\u001b[0;34m\u001b[0m\u001b[0;34m\u001b[0m\u001b[0m\n",
            "\u001b[0;31mModuleNotFoundError\u001b[0m: No module named 'jpype'",
            "",
            "\u001b[0;31m---------------------------------------------------------------------------\u001b[0;32m\nNOTE: If your import is failing due to a missing package, you can\nmanually install dependencies using either !pip or !apt.\n\nTo view examples of installing some common dependencies, click the\n\"Open Examples\" button below.\n\u001b[0;31m---------------------------------------------------------------------------\u001b[0m\n"
          ],
          "errorDetails": {
            "actions": [
              {
                "action": "open_url",
                "actionText": "Open Examples",
                "url": "/notebooks/snippets/importing_libraries.ipynb"
              }
            ]
          }
        }
      ]
    },
    {
      "cell_type": "code",
      "source": [],
      "metadata": {
        "id": "eIGJDS7u4DLS"
      },
      "execution_count": null,
      "outputs": []
    },
    {
      "cell_type": "code",
      "source": [],
      "metadata": {
        "id": "ziHBaaCn4DN2"
      },
      "execution_count": null,
      "outputs": []
    },
    {
      "cell_type": "markdown",
      "source": [
        "# Brighten Image (For Anyone dealing with PDFs created from scanned images)"
      ],
      "metadata": {
        "id": "FIzj02CHqce7"
      }
    },
    {
      "cell_type": "code",
      "source": [
        "from PIL import Image, ImageEnhance\n",
        "\n",
        "#read the image\n",
        "im = Image.open(\"ext_im.jpg\")\n",
        "\n",
        "#image brightness enhancer\n",
        "enhancer = ImageEnhance.Brightness(im)\n",
        "\n",
        "factor = 1 #gives original image\n",
        "im_output = enhancer.enhance(factor)\n",
        "im_output.save('ext_im-1.jpg')\n",
        "\n",
        "factor = 1.5## brightens the image\n",
        "im_output = enhancer.enhance(factor)\n",
        "im_output.save('ext_im-2.jpg')\n"
      ],
      "metadata": {
        "id": "vnzqj5q34DQk"
      },
      "execution_count": null,
      "outputs": []
    },
    {
      "cell_type": "code",
      "source": [],
      "metadata": {
        "id": "arQSfE2br7YT"
      },
      "execution_count": null,
      "outputs": []
    }
  ],
  "metadata": {
    "accelerator": "GPU",
    "colab": {
      "collapsed_sections": [
        "E693Ela3qhLx",
        "SqFdbM634H5w",
        "FIzj02CHqce7"
      ],
      "provenance": [],
      "include_colab_link": true
    },
    "kernelspec": {
      "display_name": "Python 3",
      "name": "python3"
    },
    "language_info": {
      "name": "python"
    }
  },
  "nbformat": 4,
  "nbformat_minor": 0
}